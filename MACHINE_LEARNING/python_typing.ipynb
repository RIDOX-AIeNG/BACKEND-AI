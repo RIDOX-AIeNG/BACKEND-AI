{
 "cells": [
  {
   "cell_type": "code",
   "execution_count": 2,
   "id": "96abdc3d",
   "metadata": {},
   "outputs": [],
   "source": [
    "\n",
    "def get_fellows_names(fellow: list[str]) -> list[str]:\n",
    "    return fellow"
   ]
  },
  {
   "cell_type": "code",
   "execution_count": 3,
   "id": "85151df5",
   "metadata": {},
   "outputs": [],
   "source": [
    "def get_average(name: str, scores: list[float]) -> float:\n",
    "    average_score = sum(scores)/len(scores)\n",
    "    print(f\"{name}'s average score is {average_score}\")\n",
    "    return average_score"
   ]
  },
  {
   "cell_type": "markdown",
   "id": "bacb423f",
   "metadata": {},
   "source": [
    "`name: str` - The parameter `name` must be a string\n",
    "\n",
    "`scores: list[int]` - The argument `scores` must be a list containing integers.\n",
    "\n",
    "-> float - The function must return a floating point number"
   ]
  },
  {
   "cell_type": "code",
   "execution_count": 4,
   "id": "122b918d",
   "metadata": {},
   "outputs": [],
   "source": [
    "def greet(name: str) -> None:\n",
    "    print(f\"Hello, {name}\")"
   ]
  },
  {
   "cell_type": "markdown",
   "id": "c67731b0",
   "metadata": {},
   "source": [
    "This function `prints` something, but it doesn’t return anything with a return statement.\n",
    "So its “return type” is `None`."
   ]
  },
  {
   "cell_type": "markdown",
   "id": "7615d671",
   "metadata": {},
   "source": [
    "In Python, when a function has no `return` statement, or when it ends without returning a value,\n",
    "Python automatically returns `None` under the hood."
   ]
  },
  {
   "cell_type": "code",
   "execution_count": 5,
   "id": "ff0649ee",
   "metadata": {},
   "outputs": [],
   "source": [
    "def add(a: int, b: int) -> int:\n",
    "    return a + b"
   ]
  },
  {
   "cell_type": "code",
   "execution_count": 6,
   "id": "2e790d32",
   "metadata": {},
   "outputs": [
    {
     "data": {
      "text/plain": [
       "3.8"
      ]
     },
     "execution_count": 6,
     "metadata": {},
     "output_type": "execute_result"
    }
   ],
   "source": [
    "add(1.0, 2.8)"
   ]
  },
  {
   "cell_type": "markdown",
   "id": "11d7b8a4",
   "metadata": {},
   "source": [
    "**Typing module**"
   ]
  },
  {
   "cell_type": "markdown",
   "id": "0eca4e3b",
   "metadata": {},
   "source": [
    "The typing module is part of Python’s standard library.\n",
    "\n",
    "It provides tools called **type hints** that let you describe what _kind of data_ your variables, functions, and classes work with especially when things get more complicated"
   ]
  },
  {
   "cell_type": "markdown",
   "id": "b30224ce",
   "metadata": {},
   "source": [
    "**How to use typing**"
   ]
  },
  {
   "cell_type": "code",
   "execution_count": 7,
   "id": "1f6ebbc0",
   "metadata": {},
   "outputs": [],
   "source": [
    "from typing import List, Dict, Union, Optional"
   ]
  },
  {
   "cell_type": "markdown",
   "id": "0f25a6c1",
   "metadata": {},
   "source": [
    "You don’t need it for basic types like`int`, `float`, `str`,\n",
    "but you do need it when types start combining, nesting, or being flexible."
   ]
  },
  {
   "cell_type": "markdown",
   "id": "0e2f0031",
   "metadata": {},
   "source": [
    "**Why it Exists**"
   ]
  },
  {
   "cell_type": "markdown",
   "id": "17eb3910",
   "metadata": {},
   "source": [
    "Lets say you want to describe\n",
    "- a list that contains strings or integers\n",
    "- a dictionary where keys are strings and values are floats.\n",
    "- a function that sometimes returns a number, sometimes returns nothing.\n",
    "All of these can't be described clearly with basic hints alone. This is where the  **typing** module comes in. It gives you richer language for describing data."
   ]
  },
  {
   "cell_type": "code",
   "execution_count": 8,
   "id": "bb3ed210",
   "metadata": {},
   "outputs": [],
   "source": [
    "def process_scores(\n",
    "        scores: List[int],\n",
    "        info: Dict[str,Union[int,float]],\n",
    "        comment: Optional[str] = None)-> None:\n",
    "            print(\"scores:\",scores)\n",
    "            print(\"Info:\",info)\n",
    "            if comment:\n",
    "                    print(\"comment:\", comment)"
   ]
  },
  {
   "cell_type": "markdown",
   "id": "57d61614",
   "metadata": {},
   "source": [
    "This tells python that;\n",
    "- `scores` - is a list of integers\n",
    "- `info` - is a dictionary with string keys and values that can be `int` or `str`\n",
    "- `comment` is a string or `None`\n",
    "- `-> None` doesn't return anything"
   ]
  },
  {
   "cell_type": "markdown",
   "id": "188c9ce4",
   "metadata": {},
   "source": [
    "**Union**"
   ]
  },
  {
   "cell_type": "markdown",
   "id": "6a8ee8c1",
   "metadata": {},
   "source": [
    "Union is used when a variable or argument can hold more than one possible type. \n",
    "Lets say you have a funtion that accepts either an integer or a string as an ID"
   ]
  },
  {
   "cell_type": "code",
   "execution_count": 10,
   "id": "2fff828a",
   "metadata": {},
   "outputs": [],
   "source": [
    "from typing import Union\n",
    "\n",
    "def get_fellow_id(id: Union[int,str]) -> str:\n",
    "    return f\"fellow ID:\", {id}"
   ]
  },
  {
   "cell_type": "code",
   "execution_count": 13,
   "id": "2da2b1b4",
   "metadata": {},
   "outputs": [
    {
     "name": "stdout",
     "output_type": "stream",
     "text": [
      "('fellow ID:', {42})\n",
      "('fellow ID:', {'ab42'})\n"
     ]
    }
   ],
   "source": [
    "print(get_fellow_id(42))\n",
    "print(get_fellow_id(\"ab42\"))"
   ]
  },
  {
   "cell_type": "code",
   "execution_count": 12,
   "id": "ce2025f4",
   "metadata": {},
   "outputs": [
    {
     "name": "stdout",
     "output_type": "stream",
     "text": [
      "('fellow ID:', {42.0})\n"
     ]
    }
   ],
   "source": [
    "# lets try giving it float\n",
    "\n",
    "print(get_fellow_id(42.0)) # 0ur IDE will flag it because it is not a string..."
   ]
  },
  {
   "cell_type": "markdown",
   "id": "0d61c255",
   "metadata": {},
   "source": [
    "if you like ... you can decide to chain two or more types\n",
    "`Union[int, float, str]`\n",
    "\n",
    "But you should keep it simple and not complicate matters."
   ]
  },
  {
   "cell_type": "code",
   "execution_count": 14,
   "id": "dd65952d",
   "metadata": {},
   "outputs": [],
   "source": [
    "# Instead of union you can use pipe \"|\" - hold shift + backslash to get it\n",
    "\n",
    "def get_fellow_id(id: int | str) -> str:\n",
    "    return f\"fellow ID: {id}\"\n",
    "\n",
    "# same as\n",
    "\n",
    "def get_fellow_id(id: Union[int, str]) -> str:\n",
    "    return f\"fellow ID: {id}\""
   ]
  },
  {
   "cell_type": "code",
   "execution_count": 15,
   "id": "7c549688",
   "metadata": {},
   "outputs": [],
   "source": [
    "from typing import Union\n",
    "\n",
    "def format_address(house_number: Union[int, str], street: str) -> str:\n",
    "    return f\"{house_number} {street}\"\n"
   ]
  },
  {
   "cell_type": "code",
   "execution_count": 16,
   "id": "7fe43e2f",
   "metadata": {},
   "outputs": [
    {
     "name": "stdout",
     "output_type": "stream",
     "text": [
      "23 Ajelogo Street\n",
      "23B Ajelogo Street\n"
     ]
    }
   ],
   "source": [
    "print(format_address(23, \"Ajelogo Street\"))   # 23 Ajelogo Street\n",
    "print(format_address(\"23B\", \"Ajelogo Street\")) # 23B Ajelogo Street"
   ]
  },
  {
   "cell_type": "markdown",
   "id": "2de21baa",
   "metadata": {},
   "source": [
    "**Optional**"
   ]
  },
  {
   "cell_type": "markdown",
   "id": "e315e106",
   "metadata": {},
   "source": [
    "Sometimes you don’t just have “this or that”, \n",
    "you have “this or nothing”.\n",
    "\n",
    "This is  where `Optional` comes in."
   ]
  },
  {
   "cell_type": "markdown",
   "id": "feb691dd",
   "metadata": {},
   "source": [
    "Optional is just a shorthand for a very common Union case:\n",
    "\n",
    "```\n",
    "Optional[X]  ==  Union[X, None]\n",
    "\n",
    "```\n",
    "\n",
    "```\n",
    "optional[str] # This means the value can string or \"None\"(nothing)\n",
    "```\n"
   ]
  },
  {
   "cell_type": "markdown",
   "id": "be96d9ba",
   "metadata": {},
   "source": [
    "Now, in a real project, it is common to have parameters or fields that are not always provided.\n",
    "\n",
    "for example, \n",
    "- A user might have a middle name or might not\n",
    "- An API request might include a comment, or might leave it blank\n",
    "\n",
    "This is what oprional expresses"
   ]
  },
  {
   "cell_type": "code",
   "execution_count": 17,
   "id": "d621625d",
   "metadata": {},
   "outputs": [],
   "source": [
    "from typing  import Optional\n",
    "\n",
    "def greet(first_name: str, last_name:Optional[str] = None)-> None:\n",
    "    if last_name:\n",
    "        print(f\"Hello {first_name} {last_name}\")\n",
    "    else:\n",
    "        print(f\"Hello {first_name}\")"
   ]
  },
  {
   "cell_type": "code",
   "execution_count": 18,
   "id": "ae9be310",
   "metadata": {},
   "outputs": [
    {
     "name": "stdout",
     "output_type": "stream",
     "text": [
      "Hello Toyeebat Arike\n",
      "Hello Toyeebat\n"
     ]
    }
   ],
   "source": [
    "greet(\"Toyeebat\", \"Arike\")   \n",
    "greet(\"Toyeebat\")          \n"
   ]
  },
  {
   "cell_type": "markdown",
   "id": "b9fdaa60",
   "metadata": {},
   "source": [
    "The last_name parameter can be a string or None.\n",
    "\n",
    "By default, we set it to None if the user doesn’t supply one."
   ]
  },
  {
   "cell_type": "code",
   "execution_count": 25,
   "id": "6585dbe2",
   "metadata": {},
   "outputs": [],
   "source": [
    "def find_user(username: str) -> Optional[dict]:\n",
    "    if username == \"admin\":\n",
    "        return {\"username\": \"admin\", \"role\": \"superuser\"}\n",
    "    return None\n"
   ]
  },
  {
   "cell_type": "markdown",
   "id": "2fbc87c1",
   "metadata": {},
   "source": [
    "The function returns a dictionary if the user exists.\n",
    "\n",
    "If not, it returns None.\n",
    "\n",
    "That’s exactly what Optional describes."
   ]
  },
  {
   "cell_type": "code",
   "execution_count": 26,
   "id": "5ee3be2b",
   "metadata": {},
   "outputs": [
    {
     "data": {
      "text/plain": [
       "{'username': 'admin', 'role': 'superuser'}"
      ]
     },
     "execution_count": 26,
     "metadata": {},
     "output_type": "execute_result"
    }
   ],
   "source": [
    "find_user(\"admin\")"
   ]
  },
  {
   "cell_type": "code",
   "execution_count": 27,
   "id": "60c7246e",
   "metadata": {},
   "outputs": [],
   "source": [
    "find_user(\"Ekpo\")"
   ]
  },
  {
   "cell_type": "markdown",
   "id": "72e778f5",
   "metadata": {},
   "source": [
    "**typed collections**\n",
    "\n",
    "- Starting with `dict` and `tuple`. These are quite important because wen we get to Pydantic models and FastAPI, we will use them to describe structured data."
   ]
  },
  {
   "cell_type": "markdown",
   "id": "15f1764f",
   "metadata": {},
   "source": [
    "**`Dict` - typed dictionary**"
   ]
  },
  {
   "cell_type": "markdown",
   "id": "2dbb2e9b",
   "metadata": {},
   "source": [
    "`Dict[K,V]` describes a dictionary where\n",
    "- `k` - type of the keys\n",
    "- `V` - type of the values\n",
    "\n",
    "- This is takes the _**kwargs_ arguments"
   ]
  },
  {
   "cell_type": "code",
   "execution_count": 28,
   "id": "8fb5d802",
   "metadata": {},
   "outputs": [],
   "source": [
    "from typing import Dict\n",
    "\n",
    "fellow_scores: Dict[str, int] = {\n",
    "    \"David\": 89,\n",
    "    \"Micheal\": 98\n",
    "}"
   ]
  },
  {
   "cell_type": "markdown",
   "id": "8c5347c0",
   "metadata": {},
   "source": [
    "This means that every key is a string and every value is an integer.\n",
    "The IDE will flag it if you decide to add a string as a value"
   ]
  },
  {
   "cell_type": "markdown",
   "id": "e86b85e4",
   "metadata": {},
   "source": [
    "**`Tuple` Typed Tuples**"
   ]
  },
  {
   "cell_type": "markdown",
   "id": "c5b0b860",
   "metadata": {},
   "source": [
    "A tuple is like a small fixed-sized list, but we can define exactly what type each position shuld have."
   ]
  },
  {
   "cell_type": "code",
   "execution_count": 2,
   "id": "7622b41d",
   "metadata": {},
   "outputs": [],
   "source": [
    "from typing import Tuple\n",
    "\n",
    "fellow: Tuple[str, int, str] = (\"Perpetual\",88,\"AI Engineering\")"
   ]
  },
  {
   "cell_type": "markdown",
   "id": "0f17fd8f",
   "metadata": {},
   "source": [
    "This means that position 0 takes on string, 1 takes on int while 2 takes on strings also.And it will be flagged if interchanged."
   ]
  },
  {
   "cell_type": "code",
   "execution_count": 5,
   "id": "a3f43224",
   "metadata": {},
   "outputs": [
    {
     "name": "stdout",
     "output_type": "stream",
     "text": [
      "('Perpetual', 88, 'AI Engineering')\n"
     ]
    }
   ],
   "source": [
    "def ai_fellow(fellow: Tuple[str, int]) -> str:\n",
    "    name, score = fellow\n",
    "    return f\"{name} scored {score} in the last exam.\"\n",
    "\n",
    "print(fellow)"
   ]
  },
  {
   "cell_type": "markdown",
   "id": "8c4c58f0",
   "metadata": {},
   "source": [
    "**Pydantic**"
   ]
  },
  {
   "cell_type": "markdown",
   "id": "f08c5349",
   "metadata": {},
   "source": [
    "Pydantic like typing is used to build a structured, type-safe data models. It uses these type hints to validate,serialize, parse and structure data automatically.\n",
    "\n",
    "In simple terms, It takes messy or untrusted data like API input, JSON or form data and checks that it matches your type definitions.\n",
    "\n",
    "Now if the data type doesnt match, pydantic raises an error with a clear explanation."
   ]
  },
  {
   "cell_type": "markdown",
   "id": "87e78131",
   "metadata": {},
   "source": [
    "**Using Pydantic**"
   ]
  },
  {
   "cell_type": "markdown",
   "id": "ae1cea71",
   "metadata": {},
   "source": [
    "You can `pip install pydantic`but if you have already installed `fastapi` that means you have it already."
   ]
  },
  {
   "cell_type": "code",
   "execution_count": 1,
   "id": "e2988687",
   "metadata": {},
   "outputs": [],
   "source": [
    "%%capture\n",
    "%pip install pydantic"
   ]
  },
  {
   "cell_type": "code",
   "execution_count": 2,
   "id": "3b272684",
   "metadata": {},
   "outputs": [],
   "source": [
    "# importing pydantic\n",
    "from pydantic import BaseModel"
   ]
  },
  {
   "cell_type": "markdown",
   "id": "e5a6e8d6",
   "metadata": {},
   "source": [
    "`BaseModel` - This is the core class in pydantic that all our models inherit from(do you still remember inheritance?)\n",
    "\n",
    "- It gives your class the superpowers that makes pydantic useful. It handles core concept like;\n",
    "- data validation\n",
    "- autmatic type conversion\n",
    "- error reporting\n",
    "- serialization/ deserialization\n",
    "- schema generation - this one is heavilty used in FastAPI"
   ]
  },
  {
   "cell_type": "code",
   "execution_count": 3,
   "id": "060ec1f5",
   "metadata": {},
   "outputs": [],
   "source": [
    "# Lets create a pydantic data model\n",
    "\n",
    "class Fellow(BaseModel):\n",
    "    name: str\n",
    "    score: int\n",
    "    track: str"
   ]
  },
  {
   "cell_type": "markdown",
   "id": "d7ec0638",
   "metadata": {},
   "source": [
    "These data model knows\n",
    "- What fields it has (`name`,`score`,`city`)\n",
    "- What types those field should be (`str`,`int`,`str`)\n",
    "- how to check and clean input data\n",
    "- how to output itsself as clean, structured data(`dict`,`json`, etc)"
   ]
  },
  {
   "cell_type": "code",
   "execution_count": 4,
   "id": "84caf20e",
   "metadata": {},
   "outputs": [
    {
     "data": {
      "text/plain": [
       "Fellow(name='Perpetual', score=88, track='AI Engineering')"
      ]
     },
     "execution_count": 4,
     "metadata": {},
     "output_type": "execute_result"
    }
   ],
   "source": [
    "# 1. Validation - It autmatically validates data passed to it\n",
    "\n",
    "Fellow(name=\"Perpetual\", score=88, track=\"AI Engineering\") # This will work fine"
   ]
  },
  {
   "cell_type": "code",
   "execution_count": null,
   "id": "89f16772",
   "metadata": {},
   "outputs": [
    {
     "ename": "ValidationError",
     "evalue": "1 validation error for Fellow\nscore\n  Input should be a valid integer, unable to parse string as an integer [type=int_parsing, input_value='eighty-seven', input_type=str]\n    For further information visit https://errors.pydantic.dev/2.12/v/int_parsing",
     "output_type": "error",
     "traceback": [
      "\u001b[31m---------------------------------------------------------------------------\u001b[39m",
      "\u001b[31mValidationError\u001b[39m                           Traceback (most recent call last)",
      "\u001b[36mCell\u001b[39m\u001b[36m \u001b[39m\u001b[32mIn[5]\u001b[39m\u001b[32m, line 1\u001b[39m\n\u001b[32m----> \u001b[39m\u001b[32m1\u001b[39m \u001b[43mFellow\u001b[49m\u001b[43m(\u001b[49m\u001b[43mname\u001b[49m\u001b[43m=\u001b[49m\u001b[43m \u001b[49m\u001b[33;43m\"\u001b[39;49m\u001b[33;43mZach\u001b[39;49m\u001b[33;43m\"\u001b[39;49m\u001b[43m,\u001b[49m\u001b[43m \u001b[49m\u001b[43mscore\u001b[49m\u001b[43m \u001b[49m\u001b[43m=\u001b[49m\u001b[43m \u001b[49m\u001b[33;43m\"\u001b[39;49m\u001b[33;43meighty-seven\u001b[39;49m\u001b[33;43m\"\u001b[39;49m\u001b[43m,\u001b[49m\u001b[43m \u001b[49m\u001b[43mtrack\u001b[49m\u001b[43m=\u001b[49m\u001b[33;43m\"\u001b[39;49m\u001b[33;43mAI Engineering\u001b[39;49m\u001b[33;43m\"\u001b[39;49m\u001b[43m)\u001b[49m \u001b[38;5;66;03m# This will raise error\u001b[39;00m\n",
      "\u001b[36mFile \u001b[39m\u001b[32mc:\\Users\\ncc\\AppData\\Local\\Programs\\Python\\Python313\\Lib\\site-packages\\pydantic\\main.py:250\u001b[39m, in \u001b[36mBaseModel.__init__\u001b[39m\u001b[34m(self, **data)\u001b[39m\n\u001b[32m    248\u001b[39m \u001b[38;5;66;03m# `__tracebackhide__` tells pytest and some other tools to omit this function from tracebacks\u001b[39;00m\n\u001b[32m    249\u001b[39m __tracebackhide__ = \u001b[38;5;28;01mTrue\u001b[39;00m\n\u001b[32m--> \u001b[39m\u001b[32m250\u001b[39m validated_self = \u001b[38;5;28;43mself\u001b[39;49m\u001b[43m.\u001b[49m\u001b[43m__pydantic_validator__\u001b[49m\u001b[43m.\u001b[49m\u001b[43mvalidate_python\u001b[49m\u001b[43m(\u001b[49m\u001b[43mdata\u001b[49m\u001b[43m,\u001b[49m\u001b[43m \u001b[49m\u001b[43mself_instance\u001b[49m\u001b[43m=\u001b[49m\u001b[38;5;28;43mself\u001b[39;49m\u001b[43m)\u001b[49m\n\u001b[32m    251\u001b[39m \u001b[38;5;28;01mif\u001b[39;00m \u001b[38;5;28mself\u001b[39m \u001b[38;5;129;01mis\u001b[39;00m \u001b[38;5;129;01mnot\u001b[39;00m validated_self:\n\u001b[32m    252\u001b[39m     warnings.warn(\n\u001b[32m    253\u001b[39m         \u001b[33m'\u001b[39m\u001b[33mA custom validator is returning a value other than `self`.\u001b[39m\u001b[38;5;130;01m\\n\u001b[39;00m\u001b[33m'\u001b[39m\n\u001b[32m    254\u001b[39m         \u001b[33m\"\u001b[39m\u001b[33mReturning anything other than `self` from a top level model validator isn\u001b[39m\u001b[33m'\u001b[39m\u001b[33mt supported when validating via `__init__`.\u001b[39m\u001b[38;5;130;01m\\n\u001b[39;00m\u001b[33m\"\u001b[39m\n\u001b[32m    255\u001b[39m         \u001b[33m'\u001b[39m\u001b[33mSee the `model_validator` docs (https://docs.pydantic.dev/latest/concepts/validators/#model-validators) for more details.\u001b[39m\u001b[33m'\u001b[39m,\n\u001b[32m    256\u001b[39m         stacklevel=\u001b[32m2\u001b[39m,\n\u001b[32m    257\u001b[39m     )\n",
      "\u001b[31mValidationError\u001b[39m: 1 validation error for Fellow\nscore\n  Input should be a valid integer, unable to parse string as an integer [type=int_parsing, input_value='eighty-seven', input_type=str]\n    For further information visit https://errors.pydantic.dev/2.12/v/int_parsing"
     ]
    }
   ],
   "source": [
    "Fellow(name= \"Zach\", score = \"eighty-seven\", track=\"AI Engineering\") # This will raise error BEACAUSE youre trying a string instead of an integer and pydantic enforces. "
   ]
  },
  {
   "cell_type": "code",
   "execution_count": 7,
   "id": "1a6309aa",
   "metadata": {},
   "outputs": [
    {
     "name": "stdout",
     "output_type": "stream",
     "text": [
      "<class 'int'>\n"
     ]
    }
   ],
   "source": [
    "#2. parsing and type conversion - It automatically converts compatible types \n",
    "# It reads and interprete data\n",
    "\n",
    "p = Fellow(name = \"Perpetual\", score = \"88\", track = \"AI Engineering\")\n",
    "print(type(p.score))"
   ]
  },
  {
   "cell_type": "markdown",
   "id": "4e88d253",
   "metadata": {},
   "source": [
    "This is telling us that the compatible class is int and  not string as we have define above."
   ]
  },
  {
   "cell_type": "code",
   "execution_count": 8,
   "id": "ce1e599f",
   "metadata": {},
   "outputs": [
    {
     "name": "stdout",
     "output_type": "stream",
     "text": [
      "name='Blessing' score=100 track='AI Engineering '\n",
      "<class 'int'>\n"
     ]
    }
   ],
   "source": [
    "# an incomming data\n",
    "data= {\"name\":\"Blessing\", \"score\": \"100\", \"track\":\"AI Engineering \"}\n",
    "\n",
    "# pydantic will parse it like this\n",
    "fellow =Fellow(**data)\n",
    "\n",
    "print(fellow)\n",
    "print(type(fellow.score))"
   ]
  },
  {
   "cell_type": "markdown",
   "id": "441bed17",
   "metadata": {},
   "source": [
    "Here, Pydantic **parsed** \"100\" (a string) into 100 (an int).\n",
    "\n",
    "It “understood” the data and converted it into a proper Python model."
   ]
  },
  {
   "cell_type": "code",
   "execution_count": 9,
   "id": "acbc73c3",
   "metadata": {},
   "outputs": [
    {
     "name": "stdout",
     "output_type": "stream",
     "text": [
      "{\"name\":\"Perpetual\",\"score\":88,\"track\":\"AI Engineering\"}\n"
     ]
    },
    {
     "name": "stderr",
     "output_type": "stream",
     "text": [
      "C:\\Users\\ncc\\AppData\\Local\\Temp\\ipykernel_6268\\349802518.py:3: PydanticDeprecatedSince20: The `json` method is deprecated; use `model_dump_json` instead. Deprecated in Pydantic V2.0 to be removed in V3.0. See Pydantic V2 Migration Guide at https://errors.pydantic.dev/2.12/migration/\n",
      "  print(p.json())\n"
     ]
    }
   ],
   "source": [
    "# 3. Serailization - It automatically converts data to JSON or dictioanry(converts to a format that can be stored or sent)\n",
    "# Its more like packaging a data for output\n",
    "print(p.json())"
   ]
  },
  {
   "cell_type": "code",
   "execution_count": 10,
   "id": "5cf02ef3",
   "metadata": {},
   "outputs": [
    {
     "name": "stdout",
     "output_type": "stream",
     "text": [
      "{'name': 'Perpetual', 'score': 88, 'track': 'AI Engineering'}\n"
     ]
    },
    {
     "name": "stderr",
     "output_type": "stream",
     "text": [
      "C:\\Users\\ncc\\AppData\\Local\\Temp\\ipykernel_6268\\2898676942.py:1: PydanticDeprecatedSince20: The `dict` method is deprecated; use `model_dump` instead. Deprecated in Pydantic V2.0 to be removed in V3.0. See Pydantic V2 Migration Guide at https://errors.pydantic.dev/2.12/migration/\n",
      "  print(p.dict())\n"
     ]
    }
   ],
   "source": [
    "print(p.dict())"
   ]
  },
  {
   "cell_type": "code",
   "execution_count": 11,
   "id": "d71bfda1",
   "metadata": {},
   "outputs": [],
   "source": [
    "# 4. Nesting  - Models can be nested to create complex data structures\n",
    "\n",
    "\n",
    "class Address(BaseModel):\n",
    "    street: str\n",
    "    city: str\n",
    "    state: str\n",
    "    country: str\n",
    "\n",
    "class Fellow(BaseModel):\n",
    "    name: str\n",
    "    score: int\n",
    "    track: str\n",
    "    address: Address\n",
    "    \n",
    "# Pydantic will validate thhis automatically"
   ]
  },
  {
   "cell_type": "markdown",
   "id": "beeed9dd",
   "metadata": {},
   "source": [
    "Here, Fellow contains an Address —\n",
    "so instead of just primitive types (str, int),\n",
    "you’re using another Pydantic model (Address) as a field type."
   ]
  },
  {
   "cell_type": "code",
   "execution_count": 12,
   "id": "40665d7b",
   "metadata": {},
   "outputs": [
    {
     "name": "stdout",
     "output_type": "stream",
     "text": [
      "name='Perpetual' score=88 track='AI Engineering' address=Address(street='Ajelogo Street', city='Ketu', state='Lagos', country='Nigeria')\n"
     ]
    }
   ],
   "source": [
    "# lets pass this data\n",
    "data = {\n",
    "    \"name\": \"Perpetual\",\n",
    "    \"score\": 88,\n",
    "    \"track\": \"AI Engineering\",\n",
    "    \n",
    "    \"address\": {\n",
    "        \"street\": \"Ajelogo Street\",\n",
    "        \"city\": \"Ketu\",\n",
    "        \"state\": \"Lagos\",\n",
    "        \"country\": \"Nigeria\"\n",
    "    }\n",
    "}\n",
    "\n",
    "# pydantic will parse it like this  \n",
    "fellow = Fellow(**data)\n",
    "\n",
    "print(fellow)"
   ]
  },
  {
   "cell_type": "markdown",
   "id": "f9cd2042",
   "metadata": {},
   "source": [
    "**What is happening behind the scene**\n",
    "- Pydantic sees that Fellow as a field address of type Address.\n",
    "\n",
    "- It looks at the dictionary under \"address\".\n",
    "\n",
    "- It automatically creates an Address object inside Fellow.\n",
    "\n",
    "- It validates that street and city are both strings.\n",
    "\n",
    "So, you get deep validation — Pydantic checks every layer of your data."
   ]
  },
  {
   "cell_type": "code",
   "execution_count": 13,
   "id": "10e25c74",
   "metadata": {},
   "outputs": [
    {
     "name": "stdout",
     "output_type": "stream",
     "text": [
      "Ajelogo Street\n"
     ]
    }
   ],
   "source": [
    "# you can easily access inner fields if you need to\n",
    "\n",
    "print(fellow.address.street)"
   ]
  },
  {
   "cell_type": "code",
   "execution_count": 14,
   "id": "2c08e5e3",
   "metadata": {},
   "outputs": [
    {
     "name": "stdout",
     "output_type": "stream",
     "text": [
      "{'name': 'Perpetual', 'score': 88, 'track': 'AI Engineering', 'address': {'street': 'Ajelogo Street', 'city': 'Ketu', 'state': 'Lagos', 'country': 'Nigeria'}}\n"
     ]
    },
    {
     "name": "stderr",
     "output_type": "stream",
     "text": [
      "C:\\Users\\ncc\\AppData\\Local\\Temp\\ipykernel_6268\\956739212.py:1: PydanticDeprecatedSince20: The `dict` method is deprecated; use `model_dump` instead. Deprecated in Pydantic V2.0 to be removed in V3.0. See Pydantic V2 Migration Guide at https://errors.pydantic.dev/2.12/migration/\n",
      "  print(fellow.dict())\n"
     ]
    }
   ],
   "source": [
    "print(fellow.dict())"
   ]
  },
  {
   "cell_type": "markdown",
   "id": "2bd69d76",
   "metadata": {},
   "source": [
    "**A list of Nested Models**"
   ]
  },
  {
   "cell_type": "markdown",
   "id": "1653d788",
   "metadata": {},
   "source": [
    "This makes sense, lets say you are using two addresses, yea?"
   ]
  },
  {
   "cell_type": "code",
   "execution_count": 15,
   "id": "32d79cdc",
   "metadata": {},
   "outputs": [],
   "source": [
    "# So we can have something like this...for a listt of adress\n",
    "from typing import List\n",
    "from pydantic import BaseModel\n",
    "\n",
    "class Fellow(BaseModel):\n",
    "    name: str\n",
    "    score: int\n",
    "    track: str\n",
    "    addresses: List[Address]"
   ]
  },
  {
   "cell_type": "markdown",
   "id": "f62cafaf",
   "metadata": {},
   "source": [
    "Here, addresses isn’t just one Address —\n",
    "it’s a list (List[Address]), meaning the person can have multiple addresses."
   ]
  },
  {
   "cell_type": "code",
   "execution_count": 17,
   "id": "6794a708",
   "metadata": {},
   "outputs": [
    {
     "name": "stdout",
     "output_type": "stream",
     "text": [
      "name='Perpetual' score=88 track='AI Engineering' addresses=[Address(street='Idoroko Road', city='Sango', state='Ogun', country='Nigeria'), Address(street='Kobape', city='Abeokuta', state='Ogun', country='Nigeria')]\n"
     ]
    }
   ],
   "source": [
    "data = {\n",
    "    \"name\": \"Perpetual\",\n",
    "    \"score\": 88,\n",
    "    \"track\": \"AI Engineering\",\n",
    "    \"addresses\": [\n",
    "        {\"street\": \"Idoroko Road\", \"city\": \"Sango\", \"state\": \"Ogun\",\n",
    "        \"country\": \"Nigeria\"},\n",
    "        {\"street\": \"Kobape\", \"city\": \"Abeokuta\", \"state\": \"Ogun\",\n",
    "        \"country\": \"Nigeria\"}\n",
    "    ]\n",
    "}\n",
    "\n",
    "fellow = Fellow(**data)\n",
    "print(fellow)"
   ]
  },
  {
   "cell_type": "code",
   "execution_count": 18,
   "id": "ea94aec2",
   "metadata": {},
   "outputs": [
    {
     "name": "stdout",
     "output_type": "stream",
     "text": [
      "Sango\n",
      "Abeokuta\n"
     ]
    }
   ],
   "source": [
    "# Accessing the nested Items\n",
    "\n",
    "print(fellow.addresses[0].city)\n",
    "print(fellow.addresses[1].city)"
   ]
  },
  {
   "cell_type": "code",
   "execution_count": 19,
   "id": "28d55ec1",
   "metadata": {},
   "outputs": [
    {
     "name": "stdout",
     "output_type": "stream",
     "text": [
      "<bound method BaseModel.json of Fellow(name='Perpetual', score=88, track='AI Engineering', addresses=[Address(street='Idoroko Road', city='Sango', state='Ogun', country='Nigeria'), Address(street='Kobape', city='Abeokuta', state='Ogun', country='Nigeria')])>\n",
      "{\"name\":\"Perpetual\",\"score\":88,\"track\":\"AI Engineering\",\"addresses\":[{\"street\":\"Idoroko Road\",\"city\":\"Sango\",\"state\":\"Ogun\",\"country\":\"Nigeria\"},{\"street\":\"Kobape\",\"city\":\"Abeokuta\",\"state\":\"Ogun\",\"country\":\"Nigeria\"}]}\n",
      "\n",
      "\n",
      "{'name': 'Perpetual', 'score': 88, 'track': 'AI Engineering', 'addresses': [{'street': 'Idoroko Road', 'city': 'Sango', 'state': 'Ogun', 'country': 'Nigeria'}, {'street': 'Kobape', 'city': 'Abeokuta', 'state': 'Ogun', 'country': 'Nigeria'}]}\n",
      "{'name': 'Perpetual', 'score': 88, 'track': 'AI Engineering', 'addresses': [{'street': 'Idoroko Road', 'city': 'Sango', 'state': 'Ogun', 'country': 'Nigeria'}, {'street': 'Kobape', 'city': 'Abeokuta', 'state': 'Ogun', 'country': 'Nigeria'}]}\n"
     ]
    },
    {
     "name": "stderr",
     "output_type": "stream",
     "text": [
      "C:\\Users\\ncc\\AppData\\Local\\Temp\\ipykernel_6268\\1705960686.py:6: PydanticDeprecatedSince20: The `dict` method is deprecated; use `model_dump` instead. Deprecated in Pydantic V2.0 to be removed in V3.0. See Pydantic V2 Migration Guide at https://errors.pydantic.dev/2.12/migration/\n",
      "  print(fellow.dict())\n"
     ]
    }
   ],
   "source": [
    "# we can serialize if we want to\n",
    "\n",
    "print(fellow.json) \n",
    "print(fellow.model_dump_json()) # use this instead\n",
    "print(\"\\n\")\n",
    "print(fellow.dict())\n",
    "print(fellow.model_dump()) # use this instead"
   ]
  },
  {
   "cell_type": "code",
   "execution_count": 20,
   "id": "cc67fbd9",
   "metadata": {},
   "outputs": [
    {
     "name": "stdout",
     "output_type": "stream",
     "text": [
      "name='Micheal' score=-79 addresses=[Address(street='123 Marose St', city='Ikorodu'), Address(street='4 Babatunde Ave', city='Abioloa Way')]\n"
     ]
    }
   ],
   "source": [
    "from typing import List\n",
    "from pydantic import BaseModel\n",
    "\n",
    "class Address(BaseModel):\n",
    "    street: str\n",
    "    city: str\n",
    "\n",
    "class Fellow(BaseModel):\n",
    "    name: str\n",
    "    score: int\n",
    "    addresses: List[Address]\n",
    "\n",
    "data = {\n",
    "    \"name\": \"Micheal\",\n",
    "    \"score\": -79,\n",
    "    \"addresses\": [\n",
    "        {\"street\": \"123 Marose St\", \"city\": \"Ikorodu\"},\n",
    "        {\"street\": \"4 Babatunde Ave\", \"city\": \"Abioloa Way\"}\n",
    "    ]\n",
    "}\n",
    "\n",
    "fellow = Fellow(**data)\n",
    "print(fellow)"
   ]
  },
  {
   "cell_type": "markdown",
   "id": "ce9a86f2",
   "metadata": {},
   "source": [
    "This works fine, but right now, any value for score is accepted,\n",
    "even something unrealistic like -79 score.\n",
    "\n",
    "Let’s fix that.\n",
    "we would do that by adding a `field level validation`\n",
    "\n",
    "\n",
    "Pydantic lets you add constraints directly to fields\n",
    "using the `Field` helper"
   ]
  },
  {
   "cell_type": "code",
   "execution_count": 21,
   "id": "3aacaa7b",
   "metadata": {},
   "outputs": [],
   "source": [
    "from pydantic import BaseModel, Field\n",
    "from typing import List\n",
    "\n",
    "class Address(BaseModel):\n",
    "    street: str\n",
    "    city: str\n",
    "\n",
    "class Fellow(BaseModel):\n",
    "    name: str\n",
    "    score: int = Field(..., ge=0, le=100) # using the field\n",
    "    addresses: List[Address]"
   ]
  },
  {
   "cell_type": "code",
   "execution_count": 22,
   "id": "5c9355ae",
   "metadata": {},
   "outputs": [
    {
     "ename": "ValidationError",
     "evalue": "1 validation error for Fellow\nscore\n  Input should be greater than or equal to 0 [type=greater_than_equal, input_value=-40, input_type=int]\n    For further information visit https://errors.pydantic.dev/2.12/v/greater_than_equal",
     "output_type": "error",
     "traceback": [
      "\u001b[31m---------------------------------------------------------------------------\u001b[39m",
      "\u001b[31mValidationError\u001b[39m                           Traceback (most recent call last)",
      "\u001b[36mCell\u001b[39m\u001b[36m \u001b[39m\u001b[32mIn[22]\u001b[39m\u001b[32m, line 1\u001b[39m\n\u001b[32m----> \u001b[39m\u001b[32m1\u001b[39m \u001b[43mFellow\u001b[49m\u001b[43m(\u001b[49m\u001b[43mname\u001b[49m\u001b[43m=\u001b[49m\u001b[33;43m\"\u001b[39;49m\u001b[33;43mHassan\u001b[39;49m\u001b[33;43m\"\u001b[39;49m\u001b[43m,\u001b[49m\u001b[43m \u001b[49m\u001b[43mscore\u001b[49m\u001b[43m=\u001b[49m\u001b[43m \u001b[49m\u001b[43m-\u001b[49m\u001b[32;43m40\u001b[39;49m\u001b[43m,\u001b[49m\u001b[43m \u001b[49m\u001b[43maddresses\u001b[49m\u001b[43m=\u001b[49m\u001b[43m[\u001b[49m\u001b[43m]\u001b[49m\u001b[43m)\u001b[49m\n",
      "\u001b[36mFile \u001b[39m\u001b[32mc:\\Users\\ncc\\AppData\\Local\\Programs\\Python\\Python313\\Lib\\site-packages\\pydantic\\main.py:250\u001b[39m, in \u001b[36mBaseModel.__init__\u001b[39m\u001b[34m(self, **data)\u001b[39m\n\u001b[32m    248\u001b[39m \u001b[38;5;66;03m# `__tracebackhide__` tells pytest and some other tools to omit this function from tracebacks\u001b[39;00m\n\u001b[32m    249\u001b[39m __tracebackhide__ = \u001b[38;5;28;01mTrue\u001b[39;00m\n\u001b[32m--> \u001b[39m\u001b[32m250\u001b[39m validated_self = \u001b[38;5;28;43mself\u001b[39;49m\u001b[43m.\u001b[49m\u001b[43m__pydantic_validator__\u001b[49m\u001b[43m.\u001b[49m\u001b[43mvalidate_python\u001b[49m\u001b[43m(\u001b[49m\u001b[43mdata\u001b[49m\u001b[43m,\u001b[49m\u001b[43m \u001b[49m\u001b[43mself_instance\u001b[49m\u001b[43m=\u001b[49m\u001b[38;5;28;43mself\u001b[39;49m\u001b[43m)\u001b[49m\n\u001b[32m    251\u001b[39m \u001b[38;5;28;01mif\u001b[39;00m \u001b[38;5;28mself\u001b[39m \u001b[38;5;129;01mis\u001b[39;00m \u001b[38;5;129;01mnot\u001b[39;00m validated_self:\n\u001b[32m    252\u001b[39m     warnings.warn(\n\u001b[32m    253\u001b[39m         \u001b[33m'\u001b[39m\u001b[33mA custom validator is returning a value other than `self`.\u001b[39m\u001b[38;5;130;01m\\n\u001b[39;00m\u001b[33m'\u001b[39m\n\u001b[32m    254\u001b[39m         \u001b[33m\"\u001b[39m\u001b[33mReturning anything other than `self` from a top level model validator isn\u001b[39m\u001b[33m'\u001b[39m\u001b[33mt supported when validating via `__init__`.\u001b[39m\u001b[38;5;130;01m\\n\u001b[39;00m\u001b[33m\"\u001b[39m\n\u001b[32m    255\u001b[39m         \u001b[33m'\u001b[39m\u001b[33mSee the `model_validator` docs (https://docs.pydantic.dev/latest/concepts/validators/#model-validators) for more details.\u001b[39m\u001b[33m'\u001b[39m,\n\u001b[32m    256\u001b[39m         stacklevel=\u001b[32m2\u001b[39m,\n\u001b[32m    257\u001b[39m     )\n",
      "\u001b[31mValidationError\u001b[39m: 1 validation error for Fellow\nscore\n  Input should be greater than or equal to 0 [type=greater_than_equal, input_value=-40, input_type=int]\n    For further information visit https://errors.pydantic.dev/2.12/v/greater_than_equal"
     ]
    }
   ],
   "source": [
    "Fellow(name=\"Hassan\", score= -40, addresses=[])"
   ]
  },
  {
   "cell_type": "markdown",
   "id": "e20730e3",
   "metadata": {},
   "source": [
    "...Read the error message above"
   ]
  },
  {
   "cell_type": "code",
   "execution_count": 23,
   "id": "d649ad95",
   "metadata": {},
   "outputs": [
    {
     "data": {
      "text/plain": [
       "Fellow(name='Hassan', score=80, addresses=[])"
      ]
     },
     "execution_count": 23,
     "metadata": {},
     "output_type": "execute_result"
    }
   ],
   "source": [
    "Fellow(name=\"Hassan\", score= 80, addresses=[])"
   ]
  },
  {
   "cell_type": "markdown",
   "id": "c4a4cc66",
   "metadata": {},
   "source": [
    "This kind of validation\n",
    "\n",
    "- prevents bad data from ever entering your system,\n",
    "\n",
    "- gives clear feedback to API clients,\n",
    "\n",
    "- and works automatically inside FastAPI (no extra code needed in your routes)."
   ]
  },
  {
   "cell_type": "markdown",
   "id": "cdafe6b2",
   "metadata": {},
   "source": [
    "**Custom Validation**"
   ]
  },
  {
   "cell_type": "markdown",
   "id": "9192c4a3",
   "metadata": {},
   "source": [
    "You can also write custom validation logic using a `@validator` decorator."
   ]
  },
  {
   "cell_type": "code",
   "execution_count": 24,
   "id": "2d12a5e4",
   "metadata": {},
   "outputs": [],
   "source": [
    "from pydantic import BaseModel, Field, field_validator\n",
    "\n",
    "class Person(BaseModel):\n",
    "    name: str\n",
    "    age: int = Field(...,ge=0)\n",
    "\n",
    "    @field_validator(\"name\")\n",
    "    def name_must_start_with_capital(cls, v):\n",
    "        if not v[0].isupper():\n",
    "            raise ValueError(\"Name must start with a capital letter\")\n",
    "        return v"
   ]
  },
  {
   "cell_type": "code",
   "execution_count": 25,
   "id": "eb3b97f0",
   "metadata": {},
   "outputs": [
    {
     "ename": "ValidationError",
     "evalue": "1 validation error for Person\nname\n  Value error, Name must start with a capital letter [type=value_error, input_value='solomon', input_type=str]\n    For further information visit https://errors.pydantic.dev/2.12/v/value_error",
     "output_type": "error",
     "traceback": [
      "\u001b[31m---------------------------------------------------------------------------\u001b[39m",
      "\u001b[31mValidationError\u001b[39m                           Traceback (most recent call last)",
      "\u001b[36mCell\u001b[39m\u001b[36m \u001b[39m\u001b[32mIn[25]\u001b[39m\u001b[32m, line 1\u001b[39m\n\u001b[32m----> \u001b[39m\u001b[32m1\u001b[39m \u001b[43mPerson\u001b[49m\u001b[43m(\u001b[49m\u001b[43mname\u001b[49m\u001b[43m=\u001b[49m\u001b[33;43m\"\u001b[39;49m\u001b[33;43msolomon\u001b[39;49m\u001b[33;43m\"\u001b[39;49m\u001b[43m,\u001b[49m\u001b[43m \u001b[49m\u001b[43mage\u001b[49m\u001b[43m=\u001b[49m\u001b[32;43m20\u001b[39;49m\u001b[43m)\u001b[49m\n",
      "\u001b[36mFile \u001b[39m\u001b[32mc:\\Users\\ncc\\AppData\\Local\\Programs\\Python\\Python313\\Lib\\site-packages\\pydantic\\main.py:250\u001b[39m, in \u001b[36mBaseModel.__init__\u001b[39m\u001b[34m(self, **data)\u001b[39m\n\u001b[32m    248\u001b[39m \u001b[38;5;66;03m# `__tracebackhide__` tells pytest and some other tools to omit this function from tracebacks\u001b[39;00m\n\u001b[32m    249\u001b[39m __tracebackhide__ = \u001b[38;5;28;01mTrue\u001b[39;00m\n\u001b[32m--> \u001b[39m\u001b[32m250\u001b[39m validated_self = \u001b[38;5;28;43mself\u001b[39;49m\u001b[43m.\u001b[49m\u001b[43m__pydantic_validator__\u001b[49m\u001b[43m.\u001b[49m\u001b[43mvalidate_python\u001b[49m\u001b[43m(\u001b[49m\u001b[43mdata\u001b[49m\u001b[43m,\u001b[49m\u001b[43m \u001b[49m\u001b[43mself_instance\u001b[49m\u001b[43m=\u001b[49m\u001b[38;5;28;43mself\u001b[39;49m\u001b[43m)\u001b[49m\n\u001b[32m    251\u001b[39m \u001b[38;5;28;01mif\u001b[39;00m \u001b[38;5;28mself\u001b[39m \u001b[38;5;129;01mis\u001b[39;00m \u001b[38;5;129;01mnot\u001b[39;00m validated_self:\n\u001b[32m    252\u001b[39m     warnings.warn(\n\u001b[32m    253\u001b[39m         \u001b[33m'\u001b[39m\u001b[33mA custom validator is returning a value other than `self`.\u001b[39m\u001b[38;5;130;01m\\n\u001b[39;00m\u001b[33m'\u001b[39m\n\u001b[32m    254\u001b[39m         \u001b[33m\"\u001b[39m\u001b[33mReturning anything other than `self` from a top level model validator isn\u001b[39m\u001b[33m'\u001b[39m\u001b[33mt supported when validating via `__init__`.\u001b[39m\u001b[38;5;130;01m\\n\u001b[39;00m\u001b[33m\"\u001b[39m\n\u001b[32m    255\u001b[39m         \u001b[33m'\u001b[39m\u001b[33mSee the `model_validator` docs (https://docs.pydantic.dev/latest/concepts/validators/#model-validators) for more details.\u001b[39m\u001b[33m'\u001b[39m,\n\u001b[32m    256\u001b[39m         stacklevel=\u001b[32m2\u001b[39m,\n\u001b[32m    257\u001b[39m     )\n",
      "\u001b[31mValidationError\u001b[39m: 1 validation error for Person\nname\n  Value error, Name must start with a capital letter [type=value_error, input_value='solomon', input_type=str]\n    For further information visit https://errors.pydantic.dev/2.12/v/value_error"
     ]
    }
   ],
   "source": [
    "Person(name=\"solomon\", age=20)"
   ]
  },
  {
   "cell_type": "markdown",
   "id": "f66cb014",
   "metadata": {},
   "source": [
    "...Read the error message above"
   ]
  },
  {
   "cell_type": "markdown",
   "id": "279cb3ea",
   "metadata": {},
   "source": [
    "This is the essence of Pydantic validation, `field constraints + custom validators.`"
   ]
  },
  {
   "cell_type": "code",
   "execution_count": 26,
   "id": "a8c224ab",
   "metadata": {},
   "outputs": [
    {
     "data": {
      "text/plain": [
       "Person(name='Solomon', age=20)"
      ]
     },
     "execution_count": 26,
     "metadata": {},
     "output_type": "execute_result"
    }
   ],
   "source": [
    "Person(name=\"Solomon\", age=20)"
   ]
  },
  {
   "cell_type": "markdown",
   "id": "0bf48fef",
   "metadata": {},
   "source": [
    "These types handle both validation and conversion — if the input is compatible, Pydantic converts it automatically"
   ]
  },
  {
   "cell_type": "markdown",
   "id": "15f63cde",
   "metadata": {},
   "source": [
    "| Type                         | Description                               | Example                   |\n",
    "| ---------------------------- | ----------------------------------------- | ------------------------- |\n",
    "| `EmailStr`                   | Validates email address                   | `email: EmailStr`         |\n",
    "| `AnyUrl`, `HttpUrl`          | Validates URLs                            | `website: HttpUrl`        |\n",
    "| `IPv4Address`, `IPv6Address` | Validates IP addresses                    | `ip: IPv4Address`         |\n",
    "| `PaymentCardNumber`          | Validates credit card numbers             | `card: PaymentCardNumber` |\n",
    "| `UUID`                       | Validates UUIDs                           | `id: UUID`                |\n",
    "| `Decimal`                    | For exact decimal values (money, scores)  | `price: Decimal`          |\n",
    "| `FilePath`, `DirectoryPath`  | Validates existing file or directory path | `file_path: FilePath`     |"
   ]
  },
  {
   "cell_type": "markdown",
   "id": "875425eb",
   "metadata": {},
   "source": [
    "`Field()` allows you to apply numeric or string constraints to your fields."
   ]
  },
  {
   "cell_type": "markdown",
   "id": "b215e527",
   "metadata": {},
   "source": [
    "**Enums and Literals**\n",
    "\n",
    "These restrict values to fixed options.\n",
    "\n",
    "- `Enum`: Use Enum when your allowed values are still fixed, but you might want more control\n",
    "\n",
    "- `Literal`: Literal is used when you want a small, fixed set of allowed string (or number) values — but you don’t need any extra logic or behavior."
   ]
  },
  {
   "cell_type": "code",
   "execution_count": 27,
   "id": "ba5a24cf",
   "metadata": {},
   "outputs": [],
   "source": [
    "from typing import List\n",
    "from enum import Enum\n",
    "from datetime import datetime\n",
    "from pydantic import BaseModel, Field, ValidationError\n",
    "from decimal import Decimal\n",
    "\n",
    "# Lets create the model here\n",
    "\n",
    "class ProductReview(BaseModel):\n",
    "\n",
    "    review_id: int = Field(..., gt=0, lt=10000)\n",
    "    username: str = Field(..., min_length=3, max_length=12, pattern=r\"^[A-Za-z0-9_]+$\")\n",
    "    scores: List[int] = Field(..., min_length=3, max_length=5)\n",
    "    price: Decimal = Field(..., gt=0, max_digits=6, decimal_places=2)\n",
    "    rating: float = Field(..., ge=0, le=5, multiple_of=0.5)\n",
    "    is_active: bool = Field(default= True)\n",
    "    created_at: datetime = Field(default_factory=datetime.now)\n",
    "\n",
    "# class Gender(str, Enum):\n",
    "#     male = \"male\"\n",
    "#     female = \"female\"\n",
    "\n",
    "# gender = Gender\n",
    "# print(gender.male)"
   ]
  },
  {
   "cell_type": "code",
   "execution_count": 31,
   "id": "408566fe",
   "metadata": {},
   "outputs": [],
   "source": [
    "# lets demo for each\n",
    "\n",
    "def demo_int_field():\n",
    "    print(\"integer Field Validation\")\n",
    "    try:\n",
    "        ProductReview(review_id= 2, username=\"shabi\", scores=[4, 5, 4], price=Decimal(\"10.00\"), rating=4.5)\n",
    "    except ValidationError as e:\n",
    "        print(e)"
   ]
  },
  {
   "cell_type": "code",
   "execution_count": 32,
   "id": "d7b4abfa",
   "metadata": {},
   "outputs": [
    {
     "name": "stdout",
     "output_type": "stream",
     "text": [
      "integer Field Validation\n"
     ]
    }
   ],
   "source": [
    "demo_int_field()"
   ]
  },
  {
   "cell_type": "code",
   "execution_count": 35,
   "id": "41b438e5",
   "metadata": {},
   "outputs": [],
   "source": [
    "def demo_str_field():\n",
    "    print(\"String Field Validation\")\n",
    "    try:\n",
    "        ProductReview(review_id=1, username=\"Alx\", scores=[4,5,5], price=Decimal(\"20.00\"), rating=4.0)\n",
    "    except ValidationError as e:\n",
    "        print(e)"
   ]
  },
  {
   "cell_type": "code",
   "execution_count": 36,
   "id": "a047643b",
   "metadata": {},
   "outputs": [
    {
     "name": "stdout",
     "output_type": "stream",
     "text": [
      "String Field Validation\n"
     ]
    }
   ],
   "source": [
    "demo_str_field()"
   ]
  },
  {
   "cell_type": "code",
   "execution_count": 43,
   "id": "d4949fdc",
   "metadata": {},
   "outputs": [],
   "source": [
    "def demo_list_field():\n",
    "    print(\"\\n List Field Validation\")\n",
    "    try:\n",
    "        ProductReview(review_id=2, username=\"ChrisDev\", scores =[5], price=Decimal(\"30.00\"), rating=3.5)\n",
    "    except ValidationError as e:\n",
    "        print(e)"
   ]
  },
  {
   "cell_type": "code",
   "execution_count": null,
   "id": "2e31d1c1",
   "metadata": {},
   "outputs": [
    {
     "name": "stdout",
     "output_type": "stream",
     "text": [
      "\n",
      " List Field Validation\n"
     ]
    }
   ],
   "source": [
    "demo_list_field()"
   ]
  },
  {
   "cell_type": "code",
   "execution_count": 46,
   "id": "69482a8d",
   "metadata": {},
   "outputs": [],
   "source": [
    "def demo_list_field():\n",
    "    print(\"\\n List Field Validation\")\n",
    "    try:\n",
    "        ProductReview(review_id=2, username=\"ChrisDev\", scores =[5,6,7], price=Decimal(\"30.00\"), rating=3.5)\n",
    "    except ValidationError as e:\n",
    "        print(e)"
   ]
  },
  {
   "cell_type": "code",
   "execution_count": 47,
   "id": "68cf9074",
   "metadata": {},
   "outputs": [
    {
     "name": "stdout",
     "output_type": "stream",
     "text": [
      "\n",
      " List Field Validation\n"
     ]
    }
   ],
   "source": [
    "demo_list_field()"
   ]
  },
  {
   "cell_type": "code",
   "execution_count": 49,
   "id": "c65f0e33",
   "metadata": {},
   "outputs": [],
   "source": [
    "def demo_decimal_field():\n",
    "    print(\"\\n Decimal Field Validation\")\n",
    "    try:\n",
    "        ProductReview(review_id=3, username=\"Tester\", scores=[4,4,5], price=Decimal(\"-10.00\"), rating=4.5)\n",
    "    except ValidationError as e:\n",
    "        print(e)     "
   ]
  },
  {
   "cell_type": "code",
   "execution_count": 50,
   "id": "c3b45f69",
   "metadata": {},
   "outputs": [
    {
     "name": "stdout",
     "output_type": "stream",
     "text": [
      "\n",
      " Decimal Field Validation\n",
      "1 validation error for ProductReview\n",
      "price\n",
      "  Input should be greater than 0 [type=greater_than, input_value=Decimal('-10.00'), input_type=Decimal]\n",
      "    For further information visit https://errors.pydantic.dev/2.12/v/greater_than\n"
     ]
    }
   ],
   "source": [
    "demo_decimal_field()"
   ]
  },
  {
   "cell_type": "code",
   "execution_count": 52,
   "id": "b9837c50",
   "metadata": {},
   "outputs": [],
   "source": [
    "def demo_decimal_field():\n",
    "    print(\"\\n Decimal Field Validation\")\n",
    "    try:\n",
    "        ProductReview(review_id=3, username=\"Tester\", scores=[4,4,5], price=Decimal(\"10.00\"), rating=4.5)\n",
    "    except ValidationError as e:\n",
    "        print(e)     "
   ]
  },
  {
   "cell_type": "code",
   "execution_count": 53,
   "id": "c7603ad2",
   "metadata": {},
   "outputs": [
    {
     "name": "stdout",
     "output_type": "stream",
     "text": [
      "\n",
      " Decimal Field Validation\n"
     ]
    }
   ],
   "source": [
    "demo_decimal_field()"
   ]
  }
 ],
 "metadata": {
  "kernelspec": {
   "display_name": "Python 3",
   "language": "python",
   "name": "python3"
  },
  "language_info": {
   "codemirror_mode": {
    "name": "ipython",
    "version": 3
   },
   "file_extension": ".py",
   "mimetype": "text/x-python",
   "name": "python",
   "nbconvert_exporter": "python",
   "pygments_lexer": "ipython3",
   "version": "3.13.5"
  }
 },
 "nbformat": 4,
 "nbformat_minor": 5
}
