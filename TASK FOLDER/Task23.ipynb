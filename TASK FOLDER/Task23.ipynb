{
 "cells": [
  {
   "cell_type": "code",
   "execution_count": 3,
   "id": "50a735b4",
   "metadata": {},
   "outputs": [],
   "source": [
    "from typing import Optional, List\n",
    "from pydantic import BaseModel, EmailStr, Field, ValidationError, field_validator\n",
    "from enum import Enum\n",
    "from datetime import datetime\n",
    "\n",
    "\n",
    "username: str = Field(..., min_length=4, max_length=15, pattern=r\"^[A-Za-z0-9_]+$\", )\n",
    "            # Checking username doesn't have Admin and twitter using decorator\n",
    "@field_validator(\"username\")\n",
    "def username_cannot_be(cls, v):\n",
    "    if v.lower() in {'admin', 'twitter'}:\n",
    "        raise ValueError(\"Username cannot be Admin or Twitter\")\n",
    "    return v\n",
    "free_account_post_length: str = Field(min_length=1, max_length=280, pattern=r\"^[\\s\\S]+$\")\n",
    "premium_account_post_length: str = Field(min_length=1, max_length=25000, pattern=r\"^[\\s\\S]+$\")\n",
    "is_active: bool = Field(default=True)\n",
    "created_at: datetime = Field(default_factory=datetime.now)"
   ]
  },
  {
   "cell_type": "code",
   "execution_count": 5,
   "id": "45655736",
   "metadata": {},
   "outputs": [],
   "source": [
    "def demo_str_field():\n",
    "    print(\"Twitter Field Validation\")\n",
    "    try:\n",
    "        TwitterUsername(\n",
    "            \n",
    "            username=\"twitter\",\n",
    "\n",
    "            free_account_post_length=\"Pydantic like typing is used to build a structured, type-safe data models.,\" \\\n",
    "            \" It uses these type hints to validate,serialize, parse and structure data automatically.,\" \\\n",
    "            \"In simple terms, It takes messy or untrusted data like API input, JSON or form data and checks that it matches your type definitions. ,\" \\\n",
    "            \"Now if the data type doesnt match, pydantic raises an error with a clear explanation.\", \n",
    "\n",
    "            premium_account_post_length=\"Pydantic like typing is used to build a structured, type-safe data models.,\" \\\n",
    "            \" It uses these type hints to validate,serialize, parse and structure data automatically.,\" \\\n",
    "            \"In simple terms, It takes messy or untrusted data like API input, JSON or form data and checks that it matches your type definitions. ,\" \\\n",
    "            \"Now if the data type doesnt match, pydantic raises an error with a clear explanation.\"\n",
    "                )\n",
    "    except ValidationError as e:\n",
    "        print(e)"
   ]
  },
  {
   "cell_type": "code",
   "execution_count": 6,
   "id": "54efcc53",
   "metadata": {},
   "outputs": [
    {
     "name": "stdout",
     "output_type": "stream",
     "text": [
      "Twitter Field Validation\n"
     ]
    },
    {
     "ename": "NameError",
     "evalue": "name 'TwitterUsername' is not defined",
     "output_type": "error",
     "traceback": [
      "\u001b[31m---------------------------------------------------------------------------\u001b[39m",
      "\u001b[31mNameError\u001b[39m                                 Traceback (most recent call last)",
      "\u001b[36mCell\u001b[39m\u001b[36m \u001b[39m\u001b[32mIn[6]\u001b[39m\u001b[32m, line 2\u001b[39m\n\u001b[32m      1\u001b[39m \u001b[38;5;66;03m# Let's check the validation\u001b[39;00m\n\u001b[32m----> \u001b[39m\u001b[32m2\u001b[39m \u001b[43mdemo_str_field\u001b[49m\u001b[43m(\u001b[49m\u001b[43m)\u001b[49m \n",
      "\u001b[36mCell\u001b[39m\u001b[36m \u001b[39m\u001b[32mIn[5]\u001b[39m\u001b[32m, line 4\u001b[39m, in \u001b[36mdemo_str_field\u001b[39m\u001b[34m()\u001b[39m\n\u001b[32m      2\u001b[39m \u001b[38;5;28mprint\u001b[39m(\u001b[33m\"\u001b[39m\u001b[33mTwitter Field Validation\u001b[39m\u001b[33m\"\u001b[39m)\n\u001b[32m      3\u001b[39m \u001b[38;5;28;01mtry\u001b[39;00m:\n\u001b[32m----> \u001b[39m\u001b[32m4\u001b[39m     \u001b[43mTwitterUsername\u001b[49m(\n\u001b[32m      5\u001b[39m \n\u001b[32m      6\u001b[39m         username=\u001b[33m\"\u001b[39m\u001b[33mtwitter\u001b[39m\u001b[33m\"\u001b[39m,\n\u001b[32m      7\u001b[39m \n\u001b[32m      8\u001b[39m         free_account_post_length=\u001b[33m\"\u001b[39m\u001b[33mPydantic like typing is used to build a structured, type-safe data models.,\u001b[39m\u001b[33m\"\u001b[39m \\\n\u001b[32m      9\u001b[39m         \u001b[33m\"\u001b[39m\u001b[33m It uses these type hints to validate,serialize, parse and structure data automatically.,\u001b[39m\u001b[33m\"\u001b[39m \\\n\u001b[32m     10\u001b[39m         \u001b[33m\"\u001b[39m\u001b[33mIn simple terms, It takes messy or untrusted data like API input, JSON or form data and checks that it matches your type definitions. ,\u001b[39m\u001b[33m\"\u001b[39m \\\n\u001b[32m     11\u001b[39m         \u001b[33m\"\u001b[39m\u001b[33mNow if the data type doesnt match, pydantic raises an error with a clear explanation.\u001b[39m\u001b[33m\"\u001b[39m, \n\u001b[32m     12\u001b[39m \n\u001b[32m     13\u001b[39m         premium_account_post_length=\u001b[33m\"\u001b[39m\u001b[33mPydantic like typing is used to build a structured, type-safe data models.,\u001b[39m\u001b[33m\"\u001b[39m \\\n\u001b[32m     14\u001b[39m         \u001b[33m\"\u001b[39m\u001b[33m It uses these type hints to validate,serialize, parse and structure data automatically.,\u001b[39m\u001b[33m\"\u001b[39m \\\n\u001b[32m     15\u001b[39m         \u001b[33m\"\u001b[39m\u001b[33mIn simple terms, It takes messy or untrusted data like API input, JSON or form data and checks that it matches your type definitions. ,\u001b[39m\u001b[33m\"\u001b[39m \\\n\u001b[32m     16\u001b[39m         \u001b[33m\"\u001b[39m\u001b[33mNow if the data type doesnt match, pydantic raises an error with a clear explanation.\u001b[39m\u001b[33m\"\u001b[39m\n\u001b[32m     17\u001b[39m             )\n\u001b[32m     18\u001b[39m \u001b[38;5;28;01mexcept\u001b[39;00m ValidationError \u001b[38;5;28;01mas\u001b[39;00m e:\n\u001b[32m     19\u001b[39m     \u001b[38;5;28mprint\u001b[39m(e)\n",
      "\u001b[31mNameError\u001b[39m: name 'TwitterUsername' is not defined"
     ]
    }
   ],
   "source": [
    "# Let's check the validation\n",
    "demo_str_field() "
   ]
  }
 ],
 "metadata": {
  "kernelspec": {
   "display_name": "Python 3",
   "language": "python",
   "name": "python3"
  },
  "language_info": {
   "codemirror_mode": {
    "name": "ipython",
    "version": 3
   },
   "file_extension": ".py",
   "mimetype": "text/x-python",
   "name": "python",
   "nbconvert_exporter": "python",
   "pygments_lexer": "ipython3",
   "version": "3.13.5"
  }
 },
 "nbformat": 4,
 "nbformat_minor": 5
}
