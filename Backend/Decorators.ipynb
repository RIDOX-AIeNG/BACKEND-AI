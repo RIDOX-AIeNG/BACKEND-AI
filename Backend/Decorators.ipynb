{
 "cells": [
  {
   "cell_type": "code",
   "execution_count": 1,
   "id": "9d2f9f64",
   "metadata": {},
   "outputs": [
    {
     "name": "stdout",
     "output_type": "stream",
     "text": [
      "Welcome to our shop!\n",
      "Shopkeeper says: Welcome to our shop!\n"
     ]
    }
   ],
   "source": [
    "def greet_customer():\n",
    "    return \"Welcome to our shop!\"\n",
    "\n",
    "#You can assign function to variables\n",
    "my_greeting = greet_customer\n",
    "print(my_greeting()) #Welcome to our shop!\n",
    "\n",
    "#You can pass functions as ar=guments\n",
    "def use_greeting(greeting_func):\n",
    "    return f\"Shopkeeper says: {greeting_func()}\"\n",
    "\n",
    "print(use_greeting(greet_customer))\n",
    "#Shopkeeper says: Welcome to ouyr shop"
   ]
  },
  {
   "cell_type": "code",
   "execution_count": 2,
   "id": "2b43010e",
   "metadata": {},
   "outputs": [],
   "source": [
    "def add_nigerian_politeness(original_function):\n",
    "\n",
    "    def wrapper():\n",
    "        result = original_function()\n",
    "        return f\"Good morning ooo! {result} How is family? \"\n",
    "    return wrapper\n",
    "\n",
    "# Original simple greeting\n",
    "def basic_greeting():\n",
    "    return \"Hello\""
   ]
  },
  {
   "cell_type": "code",
   "execution_count": 4,
   "id": "797e2888",
   "metadata": {},
   "outputs": [
    {
     "name": "stdout",
     "output_type": "stream",
     "text": [
      "Good morning ooo! Hello How is family? \n"
     ]
    }
   ],
   "source": [
    "# Aopply the decorator manually\n",
    "\n",
    "polite_greeting = add_nigerian_politeness(basic_greeting)\n",
    "print(polite_greeting())"
   ]
  },
  {
   "cell_type": "code",
   "execution_count": 7,
   "id": "1dfacde4",
   "metadata": {},
   "outputs": [
    {
     "name": "stdout",
     "output_type": "stream",
     "text": [
      "Good morning ooo! Welcome to my provision store How is family? \n"
     ]
    }
   ],
   "source": [
    "# Using the @ symbol (syntactic sugar)\n",
    "@add_nigerian_politeness\n",
    "def shop_greeting():\n",
    "    return \"Welcome to my provision store\"\n",
    "\n",
    "print(shop_greeting())"
   ]
  },
  {
   "cell_type": "code",
   "execution_count": 8,
   "id": "48daff2d",
   "metadata": {},
   "outputs": [],
   "source": [
    "def add_nigerian_time_greeting(time_of_day):\n",
    "    # DEcorator that adds appropriate Nigerian greeting based on time\n",
    "    def decorator(original_function):\n",
    "        def wrapper():\n",
    "            if time_of_day == \"morning\":\n",
    "                greeting = \"Good morning ooo!\"\n",
    "            elif time_of_day == \"afternoon\":\n",
    "                greeting = \"Good afternoon!\"\n",
    "            elif time_of_day == \"evening\":\n",
    "                greeting = \"Good evening ooo!\"\n",
    "            else:\n",
    "                greeting = \"How far!\"\n",
    "\n",
    "            result = original_function()\n",
    "            return f\"{greeting} {result}\"\n",
    "        return wrapper\n",
    "    return decorator"
   ]
  },
  {
   "cell_type": "code",
   "execution_count": 9,
   "id": "389659a6",
   "metadata": {},
   "outputs": [],
   "source": [
    "# Using the decorator with different times\n",
    "@add_nigerian_time_greeting(\"morning\")\n",
    "def market_greeting():\n",
    "    return \"Welcome to our shop. How can we help you today?\""
   ]
  },
  {
   "cell_type": "code",
   "execution_count": 10,
   "id": "b01c4bc0",
   "metadata": {},
   "outputs": [],
   "source": [
    "@add_nigerian_time_greeting(\"evening\")\n",
    "def restaurant_greeting():\n",
    "    return \"Welcome to our restaurant. What would you like to eat?\""
   ]
  },
  {
   "cell_type": "code",
   "execution_count": 11,
   "id": "4ad3acf6",
   "metadata": {},
   "outputs": [
    {
     "name": "stdout",
     "output_type": "stream",
     "text": [
      "Good morning ooo! Welcome to our shop. How can we help you today?\n"
     ]
    }
   ],
   "source": [
    "print(market_greeting())"
   ]
  },
  {
   "cell_type": "code",
   "execution_count": 12,
   "id": "0f029edf",
   "metadata": {},
   "outputs": [
    {
     "name": "stdout",
     "output_type": "stream",
     "text": [
      "Good evening ooo! Welcome to our restaurant. What would you like to eat?\n"
     ]
    }
   ],
   "source": [
    "print(restaurant_greeting())"
   ]
  },
  {
   "cell_type": "code",
   "execution_count": 14,
   "id": "4cc4fcf7",
   "metadata": {},
   "outputs": [],
   "source": [
    "#More Example 3\n",
    "\n",
    "def naira_formatter(currency_symbol=\"₦\"):\n",
    "\n",
    "    def decorator(price_function):\n",
    "        def wrapper(*args, **kwargs):\n",
    "            price = price_function(*args, **kwargs)\n",
    "            return f\"{currency_symbol}{price:,}\"\n",
    "        return wrapper\n",
    "    return decorator"
   ]
  },
  {
   "cell_type": "code",
   "execution_count": 15,
   "id": "c4901a50",
   "metadata": {},
   "outputs": [],
   "source": [
    "@naira_formatter(\"₦\")\n",
    "def rice_price():\n",
    "    return 2500"
   ]
  },
  {
   "cell_type": "code",
   "execution_count": 16,
   "id": "5254eb78",
   "metadata": {},
   "outputs": [],
   "source": [
    "@naira_formatter(\"₦\")\n",
    "def calculate_transport_fare(distance_km):\n",
    "    base_fare = 200\n",
    "    per_km = 50\n",
    "    return base_fare + (distance_km * per_km)"
   ]
  },
  {
   "cell_type": "code",
   "execution_count": 17,
   "id": "0a78c28a",
   "metadata": {},
   "outputs": [
    {
     "name": "stdout",
     "output_type": "stream",
     "text": [
      "₦2,500\n",
      "₦450\n"
     ]
    }
   ],
   "source": [
    "print(rice_price())\n",
    "print(calculate_transport_fare(5))"
   ]
  },
  {
   "cell_type": "code",
   "execution_count": null,
   "id": "a34b16f0",
   "metadata": {},
   "outputs": [],
   "source": []
  }
 ],
 "metadata": {
  "kernelspec": {
   "display_name": "Python 3",
   "language": "python",
   "name": "python3"
  },
  "language_info": {
   "codemirror_mode": {
    "name": "ipython",
    "version": 3
   },
   "file_extension": ".py",
   "mimetype": "text/x-python",
   "name": "python",
   "nbconvert_exporter": "python",
   "pygments_lexer": "ipython3",
   "version": "3.13.5"
  }
 },
 "nbformat": 4,
 "nbformat_minor": 5
}
