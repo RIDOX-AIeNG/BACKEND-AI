{
 "cells": [
  {
   "cell_type": "code",
   "execution_count": 2,
   "id": "7e5349c5",
   "metadata": {},
   "outputs": [],
   "source": [
    "# Importing our dataset from scikit learn\n",
    "from sklearn.datasets import load_iris"
   ]
  },
  {
   "cell_type": "code",
   "execution_count": 3,
   "id": "ba296aaa",
   "metadata": {},
   "outputs": [],
   "source": [
    "# import pandas to load the dataset as a dataframe\n",
    "import pandas as pd\n",
    "iris_flower = load_iris() # we are assigning iris_f;lower to 'load-iris()' instance\n",
    "\n",
    "# lets load the feature dataset\n",
    "features = pd.DataFrame(iris_flower.data, columns=iris_flower.feature_names)\n",
    "# lets load the target dataset\n",
    "target = iris_flower.target\n"
   ]
  },
  {
   "cell_type": "code",
   "execution_count": 4,
   "id": "07a977b4",
   "metadata": {},
   "outputs": [
    {
     "data": {
      "text/html": [
       "<div>\n",
       "<style scoped>\n",
       "    .dataframe tbody tr th:only-of-type {\n",
       "        vertical-align: middle;\n",
       "    }\n",
       "\n",
       "    .dataframe tbody tr th {\n",
       "        vertical-align: top;\n",
       "    }\n",
       "\n",
       "    .dataframe thead th {\n",
       "        text-align: right;\n",
       "    }\n",
       "</style>\n",
       "<table border=\"1\" class=\"dataframe\">\n",
       "  <thead>\n",
       "    <tr style=\"text-align: right;\">\n",
       "      <th></th>\n",
       "      <th>sepal length (cm)</th>\n",
       "      <th>sepal width (cm)</th>\n",
       "      <th>petal length (cm)</th>\n",
       "      <th>petal width (cm)</th>\n",
       "    </tr>\n",
       "  </thead>\n",
       "  <tbody>\n",
       "    <tr>\n",
       "      <th>0</th>\n",
       "      <td>5.1</td>\n",
       "      <td>3.5</td>\n",
       "      <td>1.4</td>\n",
       "      <td>0.2</td>\n",
       "    </tr>\n",
       "    <tr>\n",
       "      <th>1</th>\n",
       "      <td>4.9</td>\n",
       "      <td>3.0</td>\n",
       "      <td>1.4</td>\n",
       "      <td>0.2</td>\n",
       "    </tr>\n",
       "    <tr>\n",
       "      <th>2</th>\n",
       "      <td>4.7</td>\n",
       "      <td>3.2</td>\n",
       "      <td>1.3</td>\n",
       "      <td>0.2</td>\n",
       "    </tr>\n",
       "    <tr>\n",
       "      <th>3</th>\n",
       "      <td>4.6</td>\n",
       "      <td>3.1</td>\n",
       "      <td>1.5</td>\n",
       "      <td>0.2</td>\n",
       "    </tr>\n",
       "    <tr>\n",
       "      <th>4</th>\n",
       "      <td>5.0</td>\n",
       "      <td>3.6</td>\n",
       "      <td>1.4</td>\n",
       "      <td>0.2</td>\n",
       "    </tr>\n",
       "  </tbody>\n",
       "</table>\n",
       "</div>"
      ],
      "text/plain": [
       "   sepal length (cm)  sepal width (cm)  petal length (cm)  petal width (cm)\n",
       "0                5.1               3.5                1.4               0.2\n",
       "1                4.9               3.0                1.4               0.2\n",
       "2                4.7               3.2                1.3               0.2\n",
       "3                4.6               3.1                1.5               0.2\n",
       "4                5.0               3.6                1.4               0.2"
      ]
     },
     "execution_count": 4,
     "metadata": {},
     "output_type": "execute_result"
    }
   ],
   "source": [
    "# lets view our data from first five rows\n",
    "\n",
    "features.head()"
   ]
  },
  {
   "cell_type": "code",
   "execution_count": 5,
   "id": "ef4e1b49",
   "metadata": {},
   "outputs": [
    {
     "name": "stdout",
     "output_type": "stream",
     "text": [
      "[0 0 0 0 0 0 0 0 0 0 0 0 0 0 0 0 0 0 0 0 0 0 0 0 0 0 0 0 0 0 0 0 0 0 0 0 0\n",
      " 0 0 0 0 0 0 0 0 0 0 0 0 0 1 1 1 1 1 1 1 1 1 1 1 1 1 1 1 1 1 1 1 1 1 1 1 1\n",
      " 1 1 1 1 1 1 1 1 1 1 1 1 1 1 1 1 1 1 1 1 1 1 1 1 1 1 2 2 2 2 2 2 2 2 2 2 2\n",
      " 2 2 2 2 2 2 2 2 2 2 2 2 2 2 2 2 2 2 2 2 2 2 2 2 2 2 2 2 2 2 2 2 2 2 2 2 2\n",
      " 2 2]\n"
     ]
    }
   ],
   "source": [
    "#lets view the target dataset\n",
    "print(target)"
   ]
  },
  {
   "cell_type": "markdown",
   "id": "fab0d873",
   "metadata": {},
   "source": [
    "`Handling missing values`"
   ]
  },
  {
   "cell_type": "code",
   "execution_count": 6,
   "id": "27250626",
   "metadata": {},
   "outputs": [
    {
     "data": {
      "text/plain": [
       "sepal length (cm)    0\n",
       "sepal width (cm)     0\n",
       "petal length (cm)    0\n",
       "petal width (cm)     0\n",
       "dtype: int64"
      ]
     },
     "execution_count": 6,
     "metadata": {},
     "output_type": "execute_result"
    }
   ],
   "source": [
    "#checking for missing values\n",
    "features.isna().sum()"
   ]
  },
  {
   "cell_type": "code",
   "execution_count": 7,
   "id": "2f0225b8",
   "metadata": {},
   "outputs": [
    {
     "name": "stdout",
     "output_type": "stream",
     "text": [
      "<class 'pandas.core.frame.DataFrame'>\n",
      "RangeIndex: 150 entries, 0 to 149\n",
      "Data columns (total 4 columns):\n",
      " #   Column             Non-Null Count  Dtype  \n",
      "---  ------             --------------  -----  \n",
      " 0   sepal length (cm)  150 non-null    float64\n",
      " 1   sepal width (cm)   150 non-null    float64\n",
      " 2   petal length (cm)  150 non-null    float64\n",
      " 3   petal width (cm)   150 non-null    float64\n",
      "dtypes: float64(4)\n",
      "memory usage: 4.8 KB\n"
     ]
    }
   ],
   "source": [
    "# lets take a snapshot of our dataset \n",
    "\\\n",
    "features.info()"
   ]
  },
  {
   "cell_type": "markdown",
   "id": "705ed982",
   "metadata": {},
   "source": [
    "* It is evident that this data does not have missing value but we are going to introduce missing values "
   ]
  },
  {
   "cell_type": "code",
   "execution_count": 10,
   "id": "a64ca4fa",
   "metadata": {},
   "outputs": [],
   "source": [
    "# Lets intrpoduce the missing values \n",
    "features.loc[10, \"sepal length (cm)\"] = None\n",
    "features.loc[50:54, \"sepal width (cm)\"] = None\n",
    "features.loc[100:102, \"petal length (cm)\"] = None\n"
   ]
  },
  {
   "cell_type": "code",
   "execution_count": 11,
   "id": "a9c2f57d",
   "metadata": {},
   "outputs": [
    {
     "data": {
      "text/plain": [
       "sepal length (cm)    1\n",
       "sepal width (cm)     5\n",
       "petal length (cm)    3\n",
       "petal width (cm)     0\n",
       "dtype: int64"
      ]
     },
     "execution_count": 11,
     "metadata": {},
     "output_type": "execute_result"
    }
   ],
   "source": [
    "# lets check for missing values again\n",
    "features.isnull().sum()"
   ]
  },
  {
   "cell_type": "code",
   "execution_count": 12,
   "id": "1ca7e239",
   "metadata": {},
   "outputs": [],
   "source": [
    "# lets handle the missing values using simple imputer\n",
    "\n",
    "from sklearn.impute import SimpleImputer\n"
   ]
  },
  {
   "cell_type": "code",
   "execution_count": 13,
   "id": "da949950",
   "metadata": {},
   "outputs": [],
   "source": [
    "# Now lets create an instance of the imputer class using \"mean\" and meadian as strategy for imputation \n",
    "impute_mean = SimpleImputer(strategy=\"mean\")\n",
    "\n",
    "impute_median = SimpleImputer(strategy=\"median\")"
   ]
  },
  {
   "cell_type": "code",
   "execution_count": 14,
   "id": "d2da5db3",
   "metadata": {},
   "outputs": [],
   "source": [
    "# lets apply the defined instances above\n",
    "features[[\"sepal length (cm)\"]] = impute_mean.fit_transform(features[[\"sepal length (cm)\"]])\n",
    "features[[\"sepal width (cm)\"]] = impute_mean.fit_transform(features[[\"sepal width (cm)\"]])\n",
    "features[[\"petal length (cm)\"]] = impute_median.fit_transform(features[[\"petal length (cm)\"]])"
   ]
  },
  {
   "cell_type": "code",
   "execution_count": 15,
   "id": "44d83405",
   "metadata": {},
   "outputs": [
    {
     "data": {
      "text/plain": [
       "sepal length (cm)    0\n",
       "sepal width (cm)     0\n",
       "petal length (cm)    0\n",
       "petal width (cm)     0\n",
       "dtype: int64"
      ]
     },
     "execution_count": 15,
     "metadata": {},
     "output_type": "execute_result"
    }
   ],
   "source": [
    "features.isna().sum()"
   ]
  },
  {
   "cell_type": "markdown",
   "id": "41ff9677",
   "metadata": {},
   "source": [
    "` 2. Handling outliers`"
   ]
  },
  {
   "cell_type": "markdown",
   "id": "c3f6b7ab",
   "metadata": {},
   "source": [
    "``Method of Handling Outliers``\n",
    "\n",
    "1. Removal\n",
    "2. Capping(Winzorizing or clipping)"
   ]
  },
  {
   "cell_type": "code",
   "execution_count": null,
   "id": "813a500e",
   "metadata": {},
   "outputs": [
    {
     "name": "stdout",
     "output_type": "stream",
     "text": [
      "[[-9.05163302e-01  1.02053680e+00 -1.34014407e+00 -1.31544430e+00]\n",
      " [-1.14773404e+00 -1.44643012e-01 -1.34014407e+00 -1.31544430e+00]\n",
      " [-1.39030478e+00  3.21428915e-01 -1.39764453e+00 -1.31544430e+00]\n",
      " [-1.51159016e+00  8.83929516e-02 -1.28264361e+00 -1.31544430e+00]\n",
      " [-1.02644867e+00  1.25357277e+00 -1.34014407e+00 -1.31544430e+00]\n",
      " [-5.41307191e-01  1.95268066e+00 -1.16764268e+00 -1.05217993e+00]\n",
      " [-1.51159016e+00  7.87500841e-01 -1.34014407e+00 -1.18381211e+00]\n",
      " [-1.02644867e+00  7.87500841e-01 -1.28264361e+00 -1.31544430e+00]\n",
      " [-1.75416090e+00 -3.77678975e-01 -1.34014407e+00 -1.31544430e+00]\n",
      " [-1.14773404e+00  8.83929516e-02 -1.28264361e+00 -1.44707648e+00]\n",
      " [ 0.00000000e+00  1.48660873e+00 -1.28264361e+00 -1.31544430e+00]\n",
      " [-1.26901941e+00  7.87500841e-01 -1.22514315e+00 -1.31544430e+00]\n",
      " [-1.26901941e+00 -1.44643012e-01 -1.34014407e+00 -1.44707648e+00]\n",
      " [-1.87544627e+00 -1.44643012e-01 -1.51264545e+00 -1.44707648e+00]\n",
      " [-5.61657085e-02  2.18571662e+00 -1.45514499e+00 -1.31544430e+00]\n",
      " [-1.77451079e-01  3.11786047e+00 -1.28264361e+00 -1.05217993e+00]\n",
      " [-5.41307191e-01  1.95268066e+00 -1.39764453e+00 -1.05217993e+00]\n",
      " [-9.05163302e-01  1.02053680e+00 -1.34014407e+00 -1.18381211e+00]\n",
      " [-1.77451079e-01  1.71964469e+00 -1.16764268e+00 -1.18381211e+00]\n",
      " [-9.05163302e-01  1.71964469e+00 -1.28264361e+00 -1.18381211e+00]\n",
      " [-5.41307191e-01  7.87500841e-01 -1.16764268e+00 -1.31544430e+00]\n",
      " [-9.05163302e-01  1.48660873e+00 -1.28264361e+00 -1.05217993e+00]\n",
      " [-1.51159016e+00  1.25357277e+00 -1.57014591e+00 -1.31544430e+00]\n",
      " [-9.05163302e-01  5.54464878e-01 -1.16764268e+00 -9.20547742e-01]\n",
      " [-1.26901941e+00  7.87500841e-01 -1.05264176e+00 -1.31544430e+00]\n",
      " [-1.02644867e+00 -1.44643012e-01 -1.22514315e+00 -1.31544430e+00]\n",
      " [-1.02644867e+00  7.87500841e-01 -1.22514315e+00 -1.05217993e+00]\n",
      " [-7.83877932e-01  1.02053680e+00 -1.28264361e+00 -1.31544430e+00]\n",
      " [-7.83877932e-01  7.87500841e-01 -1.34014407e+00 -1.31544430e+00]\n",
      " [-1.39030478e+00  3.21428915e-01 -1.22514315e+00 -1.31544430e+00]\n",
      " [-1.26901941e+00  8.83929516e-02 -1.22514315e+00 -1.31544430e+00]\n",
      " [-5.41307191e-01  7.87500841e-01 -1.28264361e+00 -1.05217993e+00]\n",
      " [-7.83877932e-01  2.41875258e+00 -1.28264361e+00 -1.44707648e+00]\n",
      " [-4.20021820e-01  2.65178855e+00 -1.34014407e+00 -1.31544430e+00]\n",
      " [-1.14773404e+00  8.83929516e-02 -1.28264361e+00 -1.31544430e+00]\n",
      " [-1.02644867e+00  3.21428915e-01 -1.45514499e+00 -1.31544430e+00]\n",
      " [-4.20021820e-01  1.02053680e+00 -1.39764453e+00 -1.31544430e+00]\n",
      " [-1.14773404e+00  1.25357277e+00 -1.34014407e+00 -1.44707648e+00]\n",
      " [-1.75416090e+00 -1.44643012e-01 -1.39764453e+00 -1.31544430e+00]\n",
      " [-9.05163302e-01  7.87500841e-01 -1.28264361e+00 -1.31544430e+00]\n",
      " [-1.02644867e+00  1.02053680e+00 -1.39764453e+00 -1.18381211e+00]\n",
      " [-1.63287553e+00 -1.77589475e+00 -1.39764453e+00 -1.18381211e+00]\n",
      " [-1.75416090e+00  3.21428915e-01 -1.39764453e+00 -1.31544430e+00]\n",
      " [-1.02644867e+00  1.02053680e+00 -1.22514315e+00 -7.88915558e-01]\n",
      " [-9.05163302e-01  1.71964469e+00 -1.05264176e+00 -1.05217993e+00]\n",
      " [-1.26901941e+00 -1.44643012e-01 -1.34014407e+00 -1.18381211e+00]\n",
      " [-9.05163302e-01  1.71964469e+00 -1.22514315e+00 -1.31544430e+00]\n",
      " [-1.51159016e+00  3.21428915e-01 -1.34014407e+00 -1.31544430e+00]\n",
      " [-6.62592561e-01  1.48660873e+00 -1.28264361e+00 -1.31544430e+00]\n",
      " [-1.02644867e+00  5.54464878e-01 -1.34014407e+00 -1.31544430e+00]\n",
      " [ 1.39925874e+00 -1.03488757e-15  5.57371131e-01  2.64141916e-01]\n",
      " [ 6.71546515e-01 -1.03488757e-15  4.42370210e-01  3.95774101e-01]\n",
      " [ 1.27797337e+00 -1.03488757e-15  6.72372052e-01  3.95774101e-01]\n",
      " [-4.20021820e-01 -1.03488757e-15  1.54867907e-01  1.32509732e-01]\n",
      " [ 7.92831885e-01 -1.03488757e-15  4.99870670e-01  3.95774101e-01]\n",
      " [-1.77451079e-01 -6.10714938e-01  4.42370210e-01  1.32509732e-01]\n",
      " [ 5.50261144e-01  5.54464878e-01  5.57371131e-01  5.27406285e-01]\n",
      " [-1.14773404e+00 -1.54285879e+00 -2.47635317e-01 -2.62386821e-01]\n",
      " [ 9.14117256e-01 -3.77678975e-01  4.99870670e-01  1.32509732e-01]\n",
      " [-7.83877932e-01 -8.43750901e-01  9.73674465e-02  2.64141916e-01]\n",
      " [-1.02644867e+00 -2.47500264e+00 -1.32634396e-01 -2.62386821e-01]\n",
      " [ 6.51196620e-02 -1.44643012e-01  2.69868828e-01  3.95774101e-01]\n",
      " [ 1.86405033e-01 -2.00893072e+00  1.54867907e-01 -2.62386821e-01]\n",
      " [ 3.07690403e-01 -3.77678975e-01  5.57371131e-01  2.64141916e-01]\n",
      " [-2.98736450e-01 -3.77678975e-01 -7.51339351e-02  1.32509732e-01]\n",
      " [ 1.03540263e+00  8.83929516e-02  3.84869749e-01  2.64141916e-01]\n",
      " [-2.98736450e-01 -1.44643012e-01  4.42370210e-01  3.95774101e-01]\n",
      " [-5.61657085e-02 -8.43750901e-01  2.12368368e-01 -2.62386821e-01]\n",
      " [ 4.28975774e-01 -2.00893072e+00  4.42370210e-01  3.95774101e-01]\n",
      " [-2.98736450e-01 -1.30982283e+00  9.73674465e-02 -1.30754636e-01]\n",
      " [ 6.51196620e-02  3.21428915e-01  6.14871591e-01  7.90670654e-01]\n",
      " [ 3.07690403e-01 -6.10714938e-01  1.54867907e-01  1.32509732e-01]\n",
      " [ 5.50261144e-01 -1.30982283e+00  6.72372052e-01  3.95774101e-01]\n",
      " [ 3.07690403e-01 -6.10714938e-01  5.57371131e-01  8.77547895e-04]\n",
      " [ 6.71546515e-01 -3.77678975e-01  3.27369289e-01  1.32509732e-01]\n",
      " [ 9.14117256e-01 -1.44643012e-01  3.84869749e-01  2.64141916e-01]\n",
      " [ 1.15668800e+00 -6.10714938e-01  6.14871591e-01  2.64141916e-01]\n",
      " [ 1.03540263e+00 -1.44643012e-01  7.29872512e-01  6.59038469e-01]\n",
      " [ 1.86405033e-01 -3.77678975e-01  4.42370210e-01  3.95774101e-01]\n",
      " [-1.77451079e-01 -1.07678686e+00 -1.32634396e-01 -2.62386821e-01]\n",
      " [-4.20021820e-01 -1.54285879e+00  3.98669860e-02 -1.30754636e-01]\n",
      " [-4.20021820e-01 -1.54285879e+00 -1.76334746e-02 -2.62386821e-01]\n",
      " [-5.61657085e-02 -8.43750901e-01  9.73674465e-02  8.77547895e-04]\n",
      " [ 1.86405033e-01 -8.43750901e-01  7.87372973e-01  5.27406285e-01]\n",
      " [-5.41307191e-01 -1.44643012e-01  4.42370210e-01  3.95774101e-01]\n",
      " [ 1.86405033e-01  7.87500841e-01  4.42370210e-01  5.27406285e-01]\n",
      " [ 1.03540263e+00  8.83929516e-02  5.57371131e-01  3.95774101e-01]\n",
      " [ 5.50261144e-01 -1.77589475e+00  3.84869749e-01  1.32509732e-01]\n",
      " [-2.98736450e-01 -1.44643012e-01  2.12368368e-01  1.32509732e-01]\n",
      " [-4.20021820e-01 -1.30982283e+00  1.54867907e-01  1.32509732e-01]\n",
      " [-4.20021820e-01 -1.07678686e+00  3.84869749e-01  8.77547895e-04]\n",
      " [ 3.07690403e-01 -1.44643012e-01  4.99870670e-01  2.64141916e-01]\n",
      " [-5.61657085e-02 -1.07678686e+00  1.54867907e-01  8.77547895e-04]\n",
      " [-1.02644867e+00 -1.77589475e+00 -2.47635317e-01 -2.62386821e-01]\n",
      " [-2.98736450e-01 -8.43750901e-01  2.69868828e-01  1.32509732e-01]\n",
      " [-1.77451079e-01 -1.44643012e-01  2.69868828e-01  8.77547895e-04]\n",
      " [-1.77451079e-01 -3.77678975e-01  2.69868828e-01  1.32509732e-01]\n",
      " [ 4.28975774e-01 -3.77678975e-01  3.27369289e-01  1.32509732e-01]\n",
      " [-9.05163302e-01 -1.30982283e+00 -4.20136698e-01 -1.30754636e-01]\n",
      " [-1.77451079e-01 -6.10714938e-01  2.12368368e-01  1.32509732e-01]\n",
      " [ 5.50261144e-01  5.54464878e-01  3.27369289e-01  1.71209594e+00]\n",
      " [-5.61657085e-02 -8.43750901e-01  3.27369289e-01  9.22302838e-01]\n",
      " [ 1.52054411e+00 -1.44643012e-01  3.27369289e-01  1.18556721e+00]\n",
      " [ 5.50261144e-01 -3.77678975e-01  1.07487528e+00  7.90670654e-01]\n",
      " [ 7.92831885e-01 -1.44643012e-01  1.18987620e+00  1.31719939e+00]\n",
      " [ 2.12697096e+00 -1.44643012e-01  1.64987988e+00  1.18556721e+00]\n",
      " [-1.14773404e+00 -1.30982283e+00  4.42370210e-01  6.59038469e-01]\n",
      " [ 1.76311485e+00 -3.77678975e-01  1.47737850e+00  7.90670654e-01]\n",
      " [ 1.03540263e+00 -1.30982283e+00  1.18987620e+00  7.90670654e-01]\n",
      " [ 1.64182948e+00  1.25357277e+00  1.36237758e+00  1.71209594e+00]\n",
      " [ 7.92831885e-01  3.21428915e-01  7.87372973e-01  1.05393502e+00]\n",
      " [ 6.71546515e-01 -8.43750901e-01  9.02373894e-01  9.22302838e-01]\n",
      " [ 1.15668800e+00 -1.44643012e-01  1.01737481e+00  1.18556721e+00]\n",
      " [-1.77451079e-01 -1.30982283e+00  7.29872512e-01  1.05393502e+00]\n",
      " [-5.61657085e-02 -6.10714938e-01  7.87372973e-01  1.58046376e+00]\n",
      " [ 6.71546515e-01  3.21428915e-01  9.02373894e-01  1.44883158e+00]\n",
      " [ 7.92831885e-01 -1.44643012e-01  1.01737481e+00  7.90670654e-01]\n",
      " [ 2.24825633e+00  1.71964469e+00  1.70738034e+00  1.31719939e+00]\n",
      " [ 2.24825633e+00 -1.07678686e+00  1.82238126e+00  1.44883158e+00]\n",
      " [ 1.86405033e-01 -2.00893072e+00  7.29872512e-01  3.95774101e-01]\n",
      " [ 1.27797337e+00  3.21428915e-01  1.13237574e+00  1.44883158e+00]\n",
      " [-2.98736450e-01 -6.10714938e-01  6.72372052e-01  1.05393502e+00]\n",
      " [ 2.24825633e+00 -6.10714938e-01  1.70738034e+00  1.05393502e+00]\n",
      " [ 5.50261144e-01 -8.43750901e-01  6.72372052e-01  7.90670654e-01]\n",
      " [ 1.03540263e+00  5.54464878e-01  1.13237574e+00  1.18556721e+00]\n",
      " [ 1.64182948e+00  3.21428915e-01  1.30487712e+00  7.90670654e-01]\n",
      " [ 4.28975774e-01 -6.10714938e-01  6.14871591e-01  7.90670654e-01]\n",
      " [ 3.07690403e-01 -1.44643012e-01  6.72372052e-01  7.90670654e-01]\n",
      " [ 6.71546515e-01 -6.10714938e-01  1.07487528e+00  1.18556721e+00]\n",
      " [ 1.64182948e+00 -1.44643012e-01  1.18987620e+00  5.27406285e-01]\n",
      " [ 1.88440022e+00 -6.10714938e-01  1.36237758e+00  9.22302838e-01]\n",
      " [ 2.49082707e+00  1.71964469e+00  1.53487896e+00  1.05393502e+00]\n",
      " [ 6.71546515e-01 -6.10714938e-01  1.07487528e+00  1.31719939e+00]\n",
      " [ 5.50261144e-01 -6.10714938e-01  7.87372973e-01  3.95774101e-01]\n",
      " [ 3.07690403e-01 -1.07678686e+00  1.07487528e+00  2.64141916e-01]\n",
      " [ 2.24825633e+00 -1.44643012e-01  1.36237758e+00  1.44883158e+00]\n",
      " [ 5.50261144e-01  7.87500841e-01  1.07487528e+00  1.58046376e+00]\n",
      " [ 6.71546515e-01  8.83929516e-02  1.01737481e+00  7.90670654e-01]\n",
      " [ 1.86405033e-01 -1.44643012e-01  6.14871591e-01  7.90670654e-01]\n",
      " [ 1.27797337e+00  8.83929516e-02  9.59874354e-01  1.18556721e+00]\n",
      " [ 1.03540263e+00  8.83929516e-02  1.07487528e+00  1.58046376e+00]\n",
      " [ 1.27797337e+00  8.83929516e-02  7.87372973e-01  1.44883158e+00]\n",
      " [-5.61657085e-02 -8.43750901e-01  7.87372973e-01  9.22302838e-01]\n",
      " [ 1.15668800e+00  3.21428915e-01  1.24737666e+00  1.44883158e+00]\n",
      " [ 1.03540263e+00  5.54464878e-01  1.13237574e+00  1.71209594e+00]\n",
      " [ 1.03540263e+00 -1.44643012e-01  8.44873433e-01  1.44883158e+00]\n",
      " [ 5.50261144e-01 -1.30982283e+00  7.29872512e-01  9.22302838e-01]\n",
      " [ 7.92831885e-01 -1.44643012e-01  8.44873433e-01  1.05393502e+00]\n",
      " [ 4.28975774e-01  7.87500841e-01  9.59874354e-01  1.44883158e+00]\n",
      " [ 6.51196620e-02 -1.44643012e-01  7.87372973e-01  7.90670654e-01]]\n"
     ]
    }
   ],
   "source": [
    "from scipy import stats # This is a statistics library\n",
    "z_scores = stats.zscore(features) # Calculate the z-score for the whole dataframe\n",
    "\n",
    "# lets print the z-scores\n",
    "print(z_scores)"
   ]
  },
  {
   "cell_type": "markdown",
   "id": "25296cb9",
   "metadata": {},
   "source": [
    "`Removal Method`"
   ]
  },
  {
   "cell_type": "code",
   "execution_count": 24,
   "id": "368ebe53",
   "metadata": {},
   "outputs": [],
   "source": [
    "handle_outliers_1 = features.copy()\n",
    "features_with_removed_outliers = handle_outliers_1[abs((z_scores < 3).all(axis=1))] # .all(axis = 1) is signifying that I am selecting all the columns"
   ]
  },
  {
   "cell_type": "code",
   "execution_count": 25,
   "id": "1e89beb2",
   "metadata": {},
   "outputs": [
    {
     "data": {
      "text/html": [
       "<div>\n",
       "<style scoped>\n",
       "    .dataframe tbody tr th:only-of-type {\n",
       "        vertical-align: middle;\n",
       "    }\n",
       "\n",
       "    .dataframe tbody tr th {\n",
       "        vertical-align: top;\n",
       "    }\n",
       "\n",
       "    .dataframe thead th {\n",
       "        text-align: right;\n",
       "    }\n",
       "</style>\n",
       "<table border=\"1\" class=\"dataframe\">\n",
       "  <thead>\n",
       "    <tr style=\"text-align: right;\">\n",
       "      <th></th>\n",
       "      <th>sepal length (cm)</th>\n",
       "      <th>sepal width (cm)</th>\n",
       "      <th>petal length (cm)</th>\n",
       "      <th>petal width (cm)</th>\n",
       "    </tr>\n",
       "  </thead>\n",
       "  <tbody>\n",
       "    <tr>\n",
       "      <th>0</th>\n",
       "      <td>5.1</td>\n",
       "      <td>3.5</td>\n",
       "      <td>1.4</td>\n",
       "      <td>0.2</td>\n",
       "    </tr>\n",
       "    <tr>\n",
       "      <th>1</th>\n",
       "      <td>4.9</td>\n",
       "      <td>3.0</td>\n",
       "      <td>1.4</td>\n",
       "      <td>0.2</td>\n",
       "    </tr>\n",
       "    <tr>\n",
       "      <th>2</th>\n",
       "      <td>4.7</td>\n",
       "      <td>3.2</td>\n",
       "      <td>1.3</td>\n",
       "      <td>0.2</td>\n",
       "    </tr>\n",
       "    <tr>\n",
       "      <th>3</th>\n",
       "      <td>4.6</td>\n",
       "      <td>3.1</td>\n",
       "      <td>1.5</td>\n",
       "      <td>0.2</td>\n",
       "    </tr>\n",
       "    <tr>\n",
       "      <th>4</th>\n",
       "      <td>5.0</td>\n",
       "      <td>3.6</td>\n",
       "      <td>1.4</td>\n",
       "      <td>0.2</td>\n",
       "    </tr>\n",
       "  </tbody>\n",
       "</table>\n",
       "</div>"
      ],
      "text/plain": [
       "   sepal length (cm)  sepal width (cm)  petal length (cm)  petal width (cm)\n",
       "0                5.1               3.5                1.4               0.2\n",
       "1                4.9               3.0                1.4               0.2\n",
       "2                4.7               3.2                1.3               0.2\n",
       "3                4.6               3.1                1.5               0.2\n",
       "4                5.0               3.6                1.4               0.2"
      ]
     },
     "execution_count": 25,
     "metadata": {},
     "output_type": "execute_result"
    }
   ],
   "source": [
    "#lets view \n",
    "features_with_removed_outliers.head()"
   ]
  },
  {
   "cell_type": "code",
   "execution_count": 26,
   "id": "1652c3ab",
   "metadata": {},
   "outputs": [
    {
     "data": {
      "text/html": [
       "<div>\n",
       "<style scoped>\n",
       "    .dataframe tbody tr th:only-of-type {\n",
       "        vertical-align: middle;\n",
       "    }\n",
       "\n",
       "    .dataframe tbody tr th {\n",
       "        vertical-align: top;\n",
       "    }\n",
       "\n",
       "    .dataframe thead th {\n",
       "        text-align: right;\n",
       "    }\n",
       "</style>\n",
       "<table border=\"1\" class=\"dataframe\">\n",
       "  <thead>\n",
       "    <tr style=\"text-align: right;\">\n",
       "      <th></th>\n",
       "      <th>sepal length (cm)</th>\n",
       "      <th>sepal width (cm)</th>\n",
       "      <th>petal length (cm)</th>\n",
       "      <th>petal width (cm)</th>\n",
       "    </tr>\n",
       "  </thead>\n",
       "  <tbody>\n",
       "    <tr>\n",
       "      <th>0</th>\n",
       "      <td>5.1</td>\n",
       "      <td>3.5</td>\n",
       "      <td>1.4</td>\n",
       "      <td>0.2</td>\n",
       "    </tr>\n",
       "    <tr>\n",
       "      <th>1</th>\n",
       "      <td>4.9</td>\n",
       "      <td>3.0</td>\n",
       "      <td>1.4</td>\n",
       "      <td>0.2</td>\n",
       "    </tr>\n",
       "    <tr>\n",
       "      <th>2</th>\n",
       "      <td>4.7</td>\n",
       "      <td>3.2</td>\n",
       "      <td>1.3</td>\n",
       "      <td>0.2</td>\n",
       "    </tr>\n",
       "    <tr>\n",
       "      <th>3</th>\n",
       "      <td>4.6</td>\n",
       "      <td>3.1</td>\n",
       "      <td>1.5</td>\n",
       "      <td>0.2</td>\n",
       "    </tr>\n",
       "    <tr>\n",
       "      <th>4</th>\n",
       "      <td>5.0</td>\n",
       "      <td>3.6</td>\n",
       "      <td>1.4</td>\n",
       "      <td>0.2</td>\n",
       "    </tr>\n",
       "  </tbody>\n",
       "</table>\n",
       "</div>"
      ],
      "text/plain": [
       "   sepal length (cm)  sepal width (cm)  petal length (cm)  petal width (cm)\n",
       "0                5.1               3.5                1.4               0.2\n",
       "1                4.9               3.0                1.4               0.2\n",
       "2                4.7               3.2                1.3               0.2\n",
       "3                4.6               3.1                1.5               0.2\n",
       "4                5.0               3.6                1.4               0.2"
      ]
     },
     "execution_count": 26,
     "metadata": {},
     "output_type": "execute_result"
    }
   ],
   "source": [
    "features.head()"
   ]
  },
  {
   "cell_type": "markdown",
   "id": "be9ddfbe",
   "metadata": {},
   "source": [
    "`capping method`"
   ]
  },
  {
   "cell_type": "code",
   "execution_count": null,
   "id": "37ab2488",
   "metadata": {},
   "outputs": [
    {
     "ename": "AttributeError",
     "evalue": "'numpy.ndarray' object has no attribute 'loc'",
     "output_type": "error",
     "traceback": [
      "\u001b[31m---------------------------------------------------------------------------\u001b[39m",
      "\u001b[31mAttributeError\u001b[39m                            Traceback (most recent call last)",
      "\u001b[36mCell\u001b[39m\u001b[36m \u001b[39m\u001b[32mIn[28]\u001b[39m\u001b[32m, line 20\u001b[39m\n\u001b[32m     17\u001b[39m outliers = handle_outliers_2[col][\u001b[38;5;28mabs\u001b[39m(stats.zscore(handle_outliers_2[col])) > threshold]\n\u001b[32m     19\u001b[39m \u001b[38;5;66;03m# lets cap anything outside the treshold \u001b[39;00m\n\u001b[32m---> \u001b[39m\u001b[32m20\u001b[39m handle_outliers_2[col] = np.where(np.abs(\u001b[43mz_scores\u001b[49m\u001b[43m.\u001b[49m\u001b[43mloc\u001b[49m[:, i]) > threshold, handle_outliers_2[col].clip(lower=outliers.min(), upper=outliers.max()), handle_outliers_2[col]) \u001b[38;5;66;03m#Using clip to cap outliers within the IQR range.\u001b[39;00m\n",
      "\u001b[31mAttributeError\u001b[39m: 'numpy.ndarray' object has no attribute 'loc'"
     ]
    }
   ],
   "source": [
    "import numpy as np \n",
    "\n",
    "#lets create a copy of our dataframe\n",
    "\n",
    "handle_outliers_2 = features.copy()\n",
    "\n",
    "# lets define the threshold first\n",
    "\n",
    "threshold = 3\n",
    "\n",
    "# lets apply capping to our calculated z-scores\n",
    "# lets apply a little bit of complexity to it incase you are going to be selcting the numeric columns in your own dataset, it works here but doesnt reallly applies to this case though.\n",
    "# creating a loop to handle both th limits and the capping of the selected solumns\n",
    "\n",
    "for i, col in enumerate(handle_outliers_2.select_dtypes(include=[np.number]).columns):\n",
    "    # lets select the outliers\n",
    "    outliers = handle_outliers_2[col][abs(stats.zscore(handle_outliers_2[col])) > threshold]\n",
    "\n",
    "    # lets cap anything outside the treshold \n",
    "    handle_outliers_2[col] = np.where(np.abs(z_scores.iloc[:, i]) > threshold, handle_outliers_2[col].clip(lower=outliers.min(), upper=outliers.max()), handle_outliers_2[col]) #Using clip to cap outliers within the IQR range."
   ]
  }
 ],
 "metadata": {
  "kernelspec": {
   "display_name": "ridox (3.13.5)",
   "language": "python",
   "name": "python3"
  },
  "language_info": {
   "codemirror_mode": {
    "name": "ipython",
    "version": 3
   },
   "file_extension": ".py",
   "mimetype": "text/x-python",
   "name": "python",
   "nbconvert_exporter": "python",
   "pygments_lexer": "ipython3",
   "version": "3.13.5"
  }
 },
 "nbformat": 4,
 "nbformat_minor": 5
}
